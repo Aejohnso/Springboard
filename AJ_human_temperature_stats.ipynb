{
 "cells": [
  {
   "cell_type": "markdown",
   "metadata": {},
   "source": [
    "# What is the True Normal Human Body Temperature? \n",
    "\n",
    "#### Background\n",
    "\n",
    "The mean normal body temperature was held to be 37$^{\\circ}$C or 98.6$^{\\circ}$F for more than 120 years since it was first conceptualized and reported by Carl Wunderlich in a famous 1868 book. But, is this value statistically correct?"
   ]
  },
  {
   "cell_type": "markdown",
   "metadata": {},
   "source": [
    "<h3>Exercises</h3>\n",
    "\n",
    "<p>In this exercise, you will analyze a dataset of human body temperatures and employ the concepts of hypothesis testing, confidence intervals, and statistical significance.</p>\n",
    "\n",
    "<p>Answer the following questions <b>in this notebook below and submit to your Github account</b>.</p> \n",
    "\n",
    "<ol>\n",
    "<li>  Is the distribution of body temperatures normal? \n",
    "    <ul>\n",
    "    <li> Although this is not a requirement for the Central Limit Theorem to hold (read the introduction on Wikipedia's page about the CLT carefully: https://en.wikipedia.org/wiki/Central_limit_theorem), it gives us some peace of mind that the population may also be normally distributed if we assume that this sample is representative of the population.\n",
    "    <li> Think about the way you're going to check for the normality of the distribution. Graphical methods are usually used first, but there are also other ways: https://en.wikipedia.org/wiki/Normality_test\n",
    "    </ul>\n",
    "<li>  Is the sample size large? Are the observations independent?\n",
    "    <ul>\n",
    "    <li> Remember that this is a condition for the Central Limit Theorem, and hence the statistical tests we are using, to apply.\n",
    "    </ul>\n",
    "<li>  Is the true population mean really 98.6 degrees F?\n",
    "    <ul>\n",
    "    <li> First, try a bootstrap hypothesis test.\n",
    "    <li> Now, let's try frequentist statistical testing. Would you use a one-sample or two-sample test? Why?\n",
    "    <li> In this situation, is it appropriate to use the $t$ or $z$ statistic? \n",
    "    <li> Now try using the other test. How is the result be different? Why?\n",
    "    </ul>\n",
    "<li>  Draw a small sample of size 10 from the data and repeat both frequentist tests. \n",
    "    <ul>\n",
    "    <li> Which one is the correct one to use? \n",
    "    <li> What do you notice? What does this tell you about the difference in application of the $t$ and $z$ statistic?\n",
    "    </ul>\n",
    "<li>  At what temperature should we consider someone's temperature to be \"abnormal\"?\n",
    "    <ul>\n",
    "    <li> As in the previous example, try calculating everything using the boostrap approach, as well as the frequentist approach.\n",
    "    <li> Start by computing the margin of error and confidence interval. When calculating the confidence interval, keep in mind that you should use the appropriate formula for one draw, and not N draws.\n",
    "    </ul>\n",
    "<li>  Is there a significant difference between males and females in normal temperature?\n",
    "    <ul>\n",
    "    <li> What testing approach did you use and why?\n",
    "    <li> Write a story with your conclusion in the context of the original problem.\n",
    "    </ul>\n",
    "</ol>\n",
    "\n",
    "You can include written notes in notebook cells using Markdown: \n",
    "   - In the control panel at the top, choose Cell > Cell Type > Markdown\n",
    "   - Markdown syntax: http://nestacms.com/docs/creating-content/markdown-cheat-sheet\n",
    "\n",
    "#### Resources\n",
    "\n",
    "+ Information and data sources: http://www.amstat.org/publications/jse/datasets/normtemp.txt, http://www.amstat.org/publications/jse/jse_data_archive.htm\n",
    "+ Markdown syntax: http://nestacms.com/docs/creating-content/markdown-cheat-sheet\n",
    "\n",
    "****"
   ]
  },
  {
   "cell_type": "code",
   "execution_count": 1,
   "metadata": {},
   "outputs": [],
   "source": [
    "import pandas as pd\n",
    "import seaborn as sns\n",
    "import numpy as np\n",
    "import matplotlib.pyplot as plt\n",
    "import random as rd\n",
    "import scipy.stats as stats\n",
    "\n",
    "df = pd.read_csv('data/human_body_temperature.csv')"
   ]
  },
  {
   "cell_type": "code",
   "execution_count": 2,
   "metadata": {},
   "outputs": [
    {
     "data": {
      "text/plain": [
       "Index([u'temperature', u'gender', u'heart_rate'], dtype='object')"
      ]
     },
     "execution_count": 2,
     "metadata": {},
     "output_type": "execute_result"
    }
   ],
   "source": [
    "df.columns"
   ]
  },
  {
   "cell_type": "code",
   "execution_count": 3,
   "metadata": {},
   "outputs": [
    {
     "data": {
      "text/html": [
       "<div>\n",
       "<style scoped>\n",
       "    .dataframe tbody tr th:only-of-type {\n",
       "        vertical-align: middle;\n",
       "    }\n",
       "\n",
       "    .dataframe tbody tr th {\n",
       "        vertical-align: top;\n",
       "    }\n",
       "\n",
       "    .dataframe thead th {\n",
       "        text-align: right;\n",
       "    }\n",
       "</style>\n",
       "<table border=\"1\" class=\"dataframe\">\n",
       "  <thead>\n",
       "    <tr style=\"text-align: right;\">\n",
       "      <th></th>\n",
       "      <th>temperature</th>\n",
       "      <th>gender</th>\n",
       "      <th>heart_rate</th>\n",
       "    </tr>\n",
       "  </thead>\n",
       "  <tbody>\n",
       "    <tr>\n",
       "      <th>0</th>\n",
       "      <td>99.3</td>\n",
       "      <td>F</td>\n",
       "      <td>68.0</td>\n",
       "    </tr>\n",
       "    <tr>\n",
       "      <th>1</th>\n",
       "      <td>98.4</td>\n",
       "      <td>F</td>\n",
       "      <td>81.0</td>\n",
       "    </tr>\n",
       "    <tr>\n",
       "      <th>2</th>\n",
       "      <td>97.8</td>\n",
       "      <td>M</td>\n",
       "      <td>73.0</td>\n",
       "    </tr>\n",
       "  </tbody>\n",
       "</table>\n",
       "</div>"
      ],
      "text/plain": [
       "   temperature gender  heart_rate\n",
       "0         99.3      F        68.0\n",
       "1         98.4      F        81.0\n",
       "2         97.8      M        73.0"
      ]
     },
     "execution_count": 3,
     "metadata": {},
     "output_type": "execute_result"
    }
   ],
   "source": [
    "df.head(3)"
   ]
  },
  {
   "cell_type": "code",
   "execution_count": 4,
   "metadata": {},
   "outputs": [
    {
     "data": {
      "text/html": [
       "<div>\n",
       "<style scoped>\n",
       "    .dataframe tbody tr th:only-of-type {\n",
       "        vertical-align: middle;\n",
       "    }\n",
       "\n",
       "    .dataframe tbody tr th {\n",
       "        vertical-align: top;\n",
       "    }\n",
       "\n",
       "    .dataframe thead th {\n",
       "        text-align: right;\n",
       "    }\n",
       "</style>\n",
       "<table border=\"1\" class=\"dataframe\">\n",
       "  <thead>\n",
       "    <tr style=\"text-align: right;\">\n",
       "      <th></th>\n",
       "      <th>temperature</th>\n",
       "      <th>heart_rate</th>\n",
       "    </tr>\n",
       "  </thead>\n",
       "  <tbody>\n",
       "    <tr>\n",
       "      <th>count</th>\n",
       "      <td>130.000000</td>\n",
       "      <td>130.000000</td>\n",
       "    </tr>\n",
       "    <tr>\n",
       "      <th>mean</th>\n",
       "      <td>98.249231</td>\n",
       "      <td>73.761538</td>\n",
       "    </tr>\n",
       "    <tr>\n",
       "      <th>std</th>\n",
       "      <td>0.733183</td>\n",
       "      <td>7.062077</td>\n",
       "    </tr>\n",
       "    <tr>\n",
       "      <th>min</th>\n",
       "      <td>96.300000</td>\n",
       "      <td>57.000000</td>\n",
       "    </tr>\n",
       "    <tr>\n",
       "      <th>25%</th>\n",
       "      <td>97.800000</td>\n",
       "      <td>69.000000</td>\n",
       "    </tr>\n",
       "    <tr>\n",
       "      <th>50%</th>\n",
       "      <td>98.300000</td>\n",
       "      <td>74.000000</td>\n",
       "    </tr>\n",
       "    <tr>\n",
       "      <th>75%</th>\n",
       "      <td>98.700000</td>\n",
       "      <td>79.000000</td>\n",
       "    </tr>\n",
       "    <tr>\n",
       "      <th>max</th>\n",
       "      <td>100.800000</td>\n",
       "      <td>89.000000</td>\n",
       "    </tr>\n",
       "  </tbody>\n",
       "</table>\n",
       "</div>"
      ],
      "text/plain": [
       "       temperature  heart_rate\n",
       "count   130.000000  130.000000\n",
       "mean     98.249231   73.761538\n",
       "std       0.733183    7.062077\n",
       "min      96.300000   57.000000\n",
       "25%      97.800000   69.000000\n",
       "50%      98.300000   74.000000\n",
       "75%      98.700000   79.000000\n",
       "max     100.800000   89.000000"
      ]
     },
     "execution_count": 4,
     "metadata": {},
     "output_type": "execute_result"
    }
   ],
   "source": [
    "df.describe()"
   ]
  },
  {
   "cell_type": "code",
   "execution_count": 5,
   "metadata": {},
   "outputs": [],
   "source": [
    "def ecdf(data):\n",
    "    \"\"\"Calculate the x,y ECDF of input data\"\"\"\n",
    "    n = len(data)\n",
    "    x = np.sort(data)\n",
    "    y = np.array([float(i) for i in range(1,n+1)]) / n\n",
    "    return x, y"
   ]
  },
  {
   "cell_type": "markdown",
   "metadata": {},
   "source": [
    "# Question #1 - Is the temperature distribution normal?"
   ]
  },
  {
   "cell_type": "code",
   "execution_count": 6,
   "metadata": {},
   "outputs": [],
   "source": [
    "# Calculate mean, standard deviation, and other basic stats\n",
    "dft = df.temperature\n",
    "tmean = dft.mean()\n",
    "tstd = dft.std()\n",
    "n = dft.count()\n",
    "tmax = dft.max()\n",
    "tmin = dft.min()"
   ]
  },
  {
   "cell_type": "code",
   "execution_count": 7,
   "metadata": {},
   "outputs": [],
   "source": [
    "# Create simulated normal data, using observed mean and standard deviation\n",
    "norm = np.random.normal(tmean,tstd,1000000)"
   ]
  },
  {
   "cell_type": "code",
   "execution_count": 63,
   "metadata": {},
   "outputs": [
    {
     "data": {
      "image/png": "[encoded data removed]",
      "text/plain": [
       "<Figure size 432x288 with 1 Axes>"
      ]
     },
     "metadata": {
      "needs_background": "light"
     },
     "output_type": "display_data"
    }
   ],
   "source": [
    "# Plot the histogram of the body temperature, with the fitted normal distribution\n",
    "plt.hist(df.temperature,bins=11,density=True)\n",
    "nhist,x,y = plt.hist(norm,bins=150,density=True,histtype='step',color='red')\n",
    "plt.xlabel('Temperature (F)')\n",
    "plt.ylabel('Frequency')\n",
    "plt.legend(['Fitted Normal','Observations'])\n",
    "plt.rcParams.update({'font.size': 14})"
   ]
  },
  {
   "cell_type": "markdown",
   "metadata": {},
   "source": [
    "### The distribution appears approximately normal, but the empirical cumulative distribution function (ECDF) might help us more."
   ]
  },
  {
   "cell_type": "code",
   "execution_count": 9,
   "metadata": {},
   "outputs": [],
   "source": [
    "# Calculate ECDF\n",
    "tx,ty = ecdf(df.temperature)\n",
    "nx,ny = ecdf(norm)"
   ]
  },
  {
   "cell_type": "code",
   "execution_count": 10,
   "metadata": {},
   "outputs": [
    {
     "data": {
      "image/png": "[encoded data removed]",
      "text/plain": [
       "<Figure size 432x288 with 1 Axes>"
      ]
     },
     "metadata": {
      "needs_background": "light"
     },
     "output_type": "display_data"
    }
   ],
   "source": [
    "# Plot the ECDF, with the fitted normal\n",
    "plt.plot(tx,ty,color='blue')\n",
    "plt.plot(nx,ny,color='red',linestyle='--')\n",
    "plt.xlabel('Temperature (F)')\n",
    "plt.ylabel('ECDF')\n",
    "plt.show()"
   ]
  },
  {
   "cell_type": "markdown",
   "metadata": {},
   "source": [
    "### Based on the ECDF plot above, the observed data very closely follows a normal distribution. But let's do a simple calculation to test further."
   ]
  },
  {
   "cell_type": "code",
   "execution_count": 11,
   "metadata": {},
   "outputs": [],
   "source": [
    "# Calculate 'inners', the percentage of data that lies within 1, 2, and 3 standard deviations from the mean.\n",
    "zs = [1,2,3]\n",
    "pvals = [0,0,0]\n",
    "inners  = [0,0,0]\n",
    "for i,z in enumerate(zs):\n",
    "    pvals[i] = float(np.sum(df.temperature > tmean + z*tstd)) / n\n",
    "    pvals[i] += float(np.sum(df.temperature < tmean - z*tstd)) / n\n",
    "    inners[i] = (1 - pvals[i])*100"
   ]
  },
  {
   "cell_type": "code",
   "execution_count": 12,
   "metadata": {},
   "outputs": [
    {
     "data": {
      "text/plain": [
       "[69.23076923076923, 94.61538461538461, 99.23076923076923]"
      ]
     },
     "execution_count": 12,
     "metadata": {},
     "output_type": "execute_result"
    }
   ],
   "source": [
    "# Show 'inners'\n",
    "inners"
   ]
  },
  {
   "cell_type": "code",
   "execution_count": 13,
   "metadata": {
    "scrolled": true
   },
   "outputs": [
    {
     "data": {
      "text/plain": [
       "array([68.26, 95.44, 99.74])"
      ]
     },
     "execution_count": 13,
     "metadata": {},
     "output_type": "execute_result"
    }
   ],
   "source": [
    "# Get the theoretical percentages for the data within 1, 2, and 3 stds from the mean.\n",
    "znorms = (1-2*np.array([.1587,.0228,.0013]))*100\n",
    "znorms"
   ]
  },
  {
   "cell_type": "code",
   "execution_count": 14,
   "metadata": {},
   "outputs": [
    {
     "data": {
      "text/plain": [
       "<matplotlib.legend.Legend at 0x1a1a626d90>"
      ]
     },
     "execution_count": 14,
     "metadata": {},
     "output_type": "execute_result"
    },
    {
     "data": {
      "image/png": "[encoded data removed]",
      "text/plain": [
       "<Figure size 432x288 with 1 Axes>"
      ]
     },
     "metadata": {
      "needs_background": "light"
     },
     "output_type": "display_data"
    }
   ],
   "source": [
    "plt.bar(np.array([1,2,3])-.15,inners,color='blue',width=0.3)\n",
    "plt.bar(np.array([1,2,3])+.15,znorms,color='red',width=0.3)\n",
    "plt.xlabel('# of Standard deviations from the mean')\n",
    "plt.ylabel('% of data contained')\n",
    "plt.legend(['Observed','Normal'])"
   ]
  },
  {
   "cell_type": "markdown",
   "metadata": {},
   "source": [
    "I calculated the percentage of data contained within 1, 2, and 3 standard deviations from the mean, and compared the numbers with those for a theoretical normal distribution (using a ztable). From the bar chart above, it is clear that the observed values are very close to the theoretical values. Thus, yes, we can safely say that the distribution is normal."
   ]
  },
  {
   "cell_type": "markdown",
   "metadata": {},
   "source": [
    "# Question #2 - Is the sample size large?"
   ]
  },
  {
   "cell_type": "markdown",
   "metadata": {},
   "source": [
    "One rule of thumb to ensure the \"normal condition\" is that the sample size should be greater than or equal to 30. In this case, our sample size of 130 is sufficiently large."
   ]
  },
  {
   "cell_type": "markdown",
   "metadata": {},
   "source": [
    "We can say that data independence condition is satisfied as long as one of the two conditions are met:\n",
    "+ The individual measurements are made with replacement\n",
    "+ The total sample size is less than about 10% of the population"
   ]
  },
  {
   "cell_type": "markdown",
   "metadata": {},
   "source": [
    "In this case, the population is the total human population. But since we don't know exactly how the measurements were made, we have no choice but to assume that the data are independent as we move forward."
   ]
  },
  {
   "cell_type": "markdown",
   "metadata": {},
   "source": [
    "# Question #3"
   ]
  },
  {
   "cell_type": "markdown",
   "metadata": {},
   "source": [
    "Is the true population mean really 98.6 degrees F?\n",
    "+ First, try a bootstrap hypothesis test.\n",
    "+ Now, let's try frequentist statistical testing. Would you use a one-sample or two-sample test? Why?\n",
    "+ In this situation, is it appropriate to use the  𝑡  or  𝑧  statistic?\n",
    "+ Now try using the other test. How is the result be different? Why?"
   ]
  },
  {
   "cell_type": "code",
   "execution_count": 15,
   "metadata": {},
   "outputs": [],
   "source": [
    "def bs_rep_1d(data, func, ssize):\n",
    "    \"\"\" Bootstrap function. Resamples input data and applies a function (e.g. mean) \"\"\"\n",
    "    bs = np.random.choice(data,ssize)\n",
    "    return func(bs)"
   ]
  },
  {
   "cell_type": "code",
   "execution_count": 16,
   "metadata": {},
   "outputs": [],
   "source": [
    "def draw_bs_reps(data,func,size,ssize):\n",
    "    \"\"\" Collects many boostrapped samples \"\"\"\n",
    "    return np.array([bs_rep_1d(data,func,ssize) for _ in range(size)])"
   ]
  },
  {
   "cell_type": "markdown",
   "metadata": {},
   "source": [
    "### Null Hypothesis: The true mean is actually 98.6F\n",
    "### Alternate Hypothesis: The true mean is actually less than 98.6F"
   ]
  },
  {
   "cell_type": "markdown",
   "metadata": {},
   "source": [
    "### Bootstrap Approach"
   ]
  },
  {
   "cell_type": "code",
   "execution_count": 17,
   "metadata": {},
   "outputs": [],
   "source": [
    "replicates1 = draw_bs_reps(df.temperature,np.mean,10000,n)"
   ]
  },
  {
   "cell_type": "code",
   "execution_count": 18,
   "metadata": {},
   "outputs": [
    {
     "data": {
      "text/plain": [
       "<matplotlib.legend.Legend at 0x1a1a64d490>"
      ]
     },
     "execution_count": 18,
     "metadata": {},
     "output_type": "execute_result"
    },
    {
     "data": {
      "image/png": "[encoded data removed]",
      "text/plain": [
       "<Figure size 432x288 with 1 Axes>"
      ]
     },
     "metadata": {
      "needs_background": "light"
     },
     "output_type": "display_data"
    }
   ],
   "source": [
    "# Plot the histogram of the resampled means, with the null hypothesis mean (98.6F) in red.\n",
    "plt.hist(replicates1,bins=50,density=True)\n",
    "plt.plot([98.6,98.6],[0,5],linestyle='--',color='r')\n",
    "plt.xlabel('Resampled Means')\n",
    "plt.ylabel('Frequency')\n",
    "plt.legend(['98.6F','Resampled'],loc='upper right')"
   ]
  },
  {
   "cell_type": "code",
   "execution_count": 19,
   "metadata": {},
   "outputs": [
    {
     "data": {
      "text/plain": [
       "0"
      ]
     },
     "execution_count": 19,
     "metadata": {},
     "output_type": "execute_result"
    }
   ],
   "source": [
    "pval1 = np.sum(replicates1>=98.6)\n",
    "pval1"
   ]
  },
  {
   "cell_type": "markdown",
   "metadata": {},
   "source": [
    "### The p-value is 0, which means that 0 out of the 10,000 samples had a mean as large as 98.6F. We can thus reject the null hypothesis."
   ]
  },
  {
   "cell_type": "markdown",
   "metadata": {},
   "source": [
    "### Let's try the frequentist approach. "
   ]
  },
  {
   "cell_type": "code",
   "execution_count": 20,
   "metadata": {},
   "outputs": [],
   "source": [
    "# Shift the data such that the mean is 98.6, and then resample the data 10000 times.\n",
    "replicates2 = draw_bs_reps(df.temperature + 98.6 - tmean,np.mean,10000,n)\n",
    "rstd = np.std(replicates2)"
   ]
  },
  {
   "cell_type": "code",
   "execution_count": 21,
   "metadata": {},
   "outputs": [
    {
     "data": {
      "text/plain": [
       "0.0"
      ]
     },
     "execution_count": 21,
     "metadata": {},
     "output_type": "execute_result"
    }
   ],
   "source": [
    "# Get the fraction of bootstrapped data whose mean is less than or equal to the observed mean.\n",
    "pval2 = float(np.sum(replicates2 <= tmean))/ len(replicates2)\n",
    "pval2"
   ]
  },
  {
   "cell_type": "markdown",
   "metadata": {},
   "source": [
    "### The p-value is 0.0, which means that for a random sample of size 130, it is extremely unlikely that the mean would be as low as the observed value of 98.25F. We can thus reject the null hypothesis that 98.6F is the true mean and accept the alternate hypothesis that the true mean is actually less than 98.6F."
   ]
  },
  {
   "cell_type": "code",
   "execution_count": 62,
   "metadata": {},
   "outputs": [
    {
     "data": {
      "text/plain": [
       "<matplotlib.legend.Legend at 0x1a1fa21fd0>"
      ]
     },
     "execution_count": 62,
     "metadata": {},
     "output_type": "execute_result"
    },
    {
     "data": {
      "image/png": "[encoded data removed]",
      "text/plain": [
       "<Figure size 432x288 with 1 Axes>"
      ]
     },
     "metadata": {
      "needs_background": "light"
     },
     "output_type": "display_data"
    }
   ],
   "source": [
    "# Plot the histogram of the shifted and resampled means, with the observed mean (red).\n",
    "plt.hist(replicates2,bins=30,density=True)\n",
    "plt.plot([tmean,tmean],[0,5],linestyle='--',color='r')\n",
    "plt.xlabel('Shifted and Resampled Means')\n",
    "plt.ylabel('Frequency')\n",
    "plt.legend(['Observed','Resampled'],loc='upper right')"
   ]
  },
  {
   "cell_type": "markdown",
   "metadata": {},
   "source": [
    "### From the histogram above, we see that the observed mean lies way outside the distribution. It is unlikely we'd see that value by chance."
   ]
  },
  {
   "cell_type": "markdown",
   "metadata": {},
   "source": [
    "### Let's calculate the t-score and z-score p-values."
   ]
  },
  {
   "cell_type": "code",
   "execution_count": 23,
   "metadata": {},
   "outputs": [],
   "source": [
    "zerr = tstd / np.sqrt(n)\n",
    "zerr_shift = rstd / np.sqrt(len(replicates2))"
   ]
  },
  {
   "cell_type": "code",
   "execution_count": 24,
   "metadata": {},
   "outputs": [
    {
     "data": {
      "text/plain": [
       "0.4791673917853164"
      ]
     },
     "execution_count": 24,
     "metadata": {},
     "output_type": "execute_result"
    }
   ],
   "source": [
    "zscore = (np.mean(replicates2) - tmean) / tstd\n",
    "zscore"
   ]
  },
  {
   "cell_type": "code",
   "execution_count": 25,
   "metadata": {},
   "outputs": [
    {
     "data": {
      "text/plain": [
       "5.463348846224682"
      ]
     },
     "execution_count": 25,
     "metadata": {},
     "output_type": "execute_result"
    }
   ],
   "source": [
    "tscore = (np.mean(replicates2) - tmean) / zerr\n",
    "tscore"
   ]
  },
  {
   "cell_type": "code",
   "execution_count": 26,
   "metadata": {},
   "outputs": [
    {
     "data": {
      "text/plain": [
       "0.6318195498921153"
      ]
     },
     "execution_count": 26,
     "metadata": {},
     "output_type": "execute_result"
    }
   ],
   "source": [
    "pval_zscore = stats.norm.sf(abs(zscore))*2\n",
    "pval_zscore"
   ]
  },
  {
   "cell_type": "code",
   "execution_count": 27,
   "metadata": {},
   "outputs": [
    {
     "data": {
      "text/plain": [
       "4.672351295445662e-08"
      ]
     },
     "execution_count": 27,
     "metadata": {},
     "output_type": "execute_result"
    }
   ],
   "source": [
    "pval_tscore = stats.norm.sf(abs(tscore))*2\n",
    "pval_tscore"
   ]
  },
  {
   "cell_type": "markdown",
   "metadata": {},
   "source": [
    "### Since we don't know the true standard deviation for the population, it is inappropriate to use the z-score. Using the t-score, we see that the observed mean is 5.5 standard deviations from our shifted and resampled data. This corresponds to a p-value of 4.6e-08. Again, with such a small p-value, we can reject the null hypothesis."
   ]
  },
  {
   "cell_type": "markdown",
   "metadata": {},
   "source": [
    "# Question #4"
   ]
  },
  {
   "cell_type": "markdown",
   "metadata": {},
   "source": [
    "Draw a small sample of size 10 from the data and repeat both frequentist tests.\n",
    "+ Which one is the correct one to use?\n",
    "+ What do you notice? What does this tell you about the difference in application of the  𝑡  and  𝑧  statistic?"
   ]
  },
  {
   "cell_type": "code",
   "execution_count": 28,
   "metadata": {},
   "outputs": [],
   "source": [
    "# Same as above, collect a distribution of means of shifted and resampled data.\n",
    "replicates10 = draw_bs_reps(df.temperature + 98.6 - tmean,np.mean,10000,10)\n",
    "rstd10 = np.std(replicates10)"
   ]
  },
  {
   "cell_type": "code",
   "execution_count": 29,
   "metadata": {},
   "outputs": [
    {
     "data": {
      "text/plain": [
       "0.0626"
      ]
     },
     "execution_count": 29,
     "metadata": {},
     "output_type": "execute_result"
    }
   ],
   "source": [
    "# Calculate the percentage that lie less than or equal to the observed mean.\n",
    "pvalue10 = float(np.sum(replicates10 <= tmean))/ len(replicates10)\n",
    "pvalue10"
   ]
  },
  {
   "cell_type": "code",
   "execution_count": 30,
   "metadata": {},
   "outputs": [
    {
     "data": {
      "text/plain": [
       "1.5257268049191797"
      ]
     },
     "execution_count": 30,
     "metadata": {},
     "output_type": "execute_result"
    }
   ],
   "source": [
    "tscore10 = (np.mean(replicates10) - tmean) / rstd10\n",
    "tscore10"
   ]
  },
  {
   "cell_type": "code",
   "execution_count": 31,
   "metadata": {},
   "outputs": [
    {
     "data": {
      "text/plain": [
       "0.12707791602484617"
      ]
     },
     "execution_count": 31,
     "metadata": {},
     "output_type": "execute_result"
    }
   ],
   "source": [
    "pval_tscore10 = stats.norm.sf(abs(tscore10))*2\n",
    "pval_tscore10"
   ]
  },
  {
   "cell_type": "code",
   "execution_count": 32,
   "metadata": {},
   "outputs": [
    {
     "data": {
      "text/plain": [
       "<matplotlib.legend.Legend at 0x1a1a9c3650>"
      ]
     },
     "execution_count": 32,
     "metadata": {},
     "output_type": "execute_result"
    },
    {
     "data": {
      "image/png": "[encoded data removed]",
      "text/plain": [
       "<Figure size 432x288 with 1 Axes>"
      ]
     },
     "metadata": {
      "needs_background": "light"
     },
     "output_type": "display_data"
    }
   ],
   "source": [
    "# Plot the histogram of the shifted and resampled means, with the observed mean (red).\n",
    "plt.hist(replicates10,bins=20,density=True)\n",
    "plt.plot([tmean,tmean],[0,2],linestyle='--',color='r')\n",
    "plt.xlabel('Shifted and Resampled Means')\n",
    "plt.ylabel('Frequency')\n",
    "plt.legend(['Observed','Resampled'],loc='upper right')"
   ]
  },
  {
   "cell_type": "markdown",
   "metadata": {},
   "source": [
    "### The p-value is 0.06, which means that at a sample size of 10, it's possible that the observed mean could happen by chance. In the histogram above, you can see that some of the data lies to the left (more extreme) from the observed mean."
   ]
  },
  {
   "cell_type": "markdown",
   "metadata": {},
   "source": [
    "# Question #5"
   ]
  },
  {
   "cell_type": "markdown",
   "metadata": {},
   "source": [
    "At what temperature should we consider someone's temperature to be \"abnormal\"?\n",
    "+ As in the previous example, try calculating everything using the boostrap approach, as well as the frequentist approach.\n",
    "+ Start by computing the margin of error and confidence interval. When calculating the confidence interval, keep in mind that you should use the appropriate formula for one draw, and not N draws."
   ]
  },
  {
   "cell_type": "code",
   "execution_count": 33,
   "metadata": {},
   "outputs": [],
   "source": [
    "# Calculate the margin of error, moe, which is 2.57*std for the 99%.\n",
    "z = 2.57\n",
    "moe = z*tstd\n",
    "tlower = tmean - moe\n",
    "thigher = tmean + moe"
   ]
  },
  {
   "cell_type": "code",
   "execution_count": 34,
   "metadata": {},
   "outputs": [
    {
     "data": {
      "text/html": [
       "<div>\n",
       "<style scoped>\n",
       "    .dataframe tbody tr th:only-of-type {\n",
       "        vertical-align: middle;\n",
       "    }\n",
       "\n",
       "    .dataframe tbody tr th {\n",
       "        vertical-align: top;\n",
       "    }\n",
       "\n",
       "    .dataframe thead th {\n",
       "        text-align: right;\n",
       "    }\n",
       "</style>\n",
       "<table border=\"1\" class=\"dataframe\">\n",
       "  <thead>\n",
       "    <tr style=\"text-align: right;\">\n",
       "      <th></th>\n",
       "      <th>temperature</th>\n",
       "      <th>gender</th>\n",
       "      <th>heart_rate</th>\n",
       "    </tr>\n",
       "  </thead>\n",
       "  <tbody>\n",
       "    <tr>\n",
       "      <th>125</th>\n",
       "      <td>96.3</td>\n",
       "      <td>M</td>\n",
       "      <td>70.0</td>\n",
       "    </tr>\n",
       "    <tr>\n",
       "      <th>116</th>\n",
       "      <td>100.8</td>\n",
       "      <td>F</td>\n",
       "      <td>77.0</td>\n",
       "    </tr>\n",
       "  </tbody>\n",
       "</table>\n",
       "</div>"
      ],
      "text/plain": [
       "     temperature gender  heart_rate\n",
       "125         96.3      M        70.0\n",
       "116        100.8      F        77.0"
      ]
     },
     "execution_count": 34,
     "metadata": {},
     "output_type": "execute_result"
    }
   ],
   "source": [
    "# Extract people whose temperature is more than 2.57 standard deviations from the mean.\n",
    "abnormals = pd.concat([df[df.temperature < tlower],df[df.temperature > thigher]])\n",
    "abnormals"
   ]
  },
  {
   "cell_type": "code",
   "execution_count": 35,
   "metadata": {},
   "outputs": [
    {
     "data": {
      "text/plain": [
       "array([ 96.3645, 100.284 ])"
      ]
     },
     "execution_count": 35,
     "metadata": {},
     "output_type": "execute_result"
    }
   ],
   "source": [
    "confint = np.percentile(df.temperature,[0.5,99.5])\n",
    "confint"
   ]
  },
  {
   "cell_type": "code",
   "execution_count": 36,
   "metadata": {},
   "outputs": [],
   "source": [
    "replicates3 = draw_bs_reps(df.temperature,np.mean,10000,len(df.temperature))"
   ]
  },
  {
   "cell_type": "code",
   "execution_count": 37,
   "metadata": {},
   "outputs": [
    {
     "data": {
      "text/plain": [
       "0.0047"
      ]
     },
     "execution_count": 37,
     "metadata": {},
     "output_type": "execute_result"
    }
   ],
   "source": [
    "tlower2 = np.mean(replicates3) - z*np.std(replicates3)\n",
    "thigher2 = np.mean(replicates3) + z*np.std(replicates3)\n",
    "abnormals = [replicates3 < tlower2]\n",
    "pval_abn = float(np.sum(abnormals)) / len(replicates3)\n",
    "pval_abn"
   ]
  },
  {
   "cell_type": "code",
   "execution_count": 38,
   "metadata": {},
   "outputs": [
    {
     "data": {
      "text/plain": [
       "array([98.08461154, 98.41307692])"
      ]
     },
     "execution_count": 38,
     "metadata": {},
     "output_type": "execute_result"
    }
   ],
   "source": [
    "confint2 = np.percentile(replicates3,[0.5,99.5])\n",
    "confint2"
   ]
  },
  {
   "cell_type": "markdown",
   "metadata": {},
   "source": [
    "### Using a 99% confidence interval, we find that \"abnormal\" is anything below 96.36F or above 100.28F."
   ]
  },
  {
   "cell_type": "code",
   "execution_count": 59,
   "metadata": {},
   "outputs": [
    {
     "data": {
      "text/plain": [
       "<matplotlib.legend.Legend at 0x1a1ac30a50>"
      ]
     },
     "execution_count": 59,
     "metadata": {},
     "output_type": "execute_result"
    },
    {
     "data": {
      "image/png": "[encoded data removed]",
      "text/plain": [
       "<Figure size 432x288 with 1 Axes>"
      ]
     },
     "metadata": {
      "needs_background": "light"
     },
     "output_type": "display_data"
    }
   ],
   "source": [
    "# Plot the histogram of the shifted and resampled means, with the observed mean (red).\n",
    "plt.hist(dft,bins=11,density=True)\n",
    "plt.plot([96.36,96.36],[0,.6],linestyle='--',color='r')\n",
    "plt.plot([100.284,100.284],[0,.6],linestyle='--',color='r')\n",
    "#plt.plot([98.08,98.08],[0,.6],linestyle='--',color='r')\n",
    "#plt.plot([98.41,98.41],[0,.6],linestyle='--',color='r')\n",
    "plt.xlabel('Observed data')\n",
    "plt.ylabel('Frequency')\n",
    "plt.legend(['Abnormal','Abnormal','Observed'],loc='upper right')"
   ]
  },
  {
   "cell_type": "markdown",
   "metadata": {},
   "source": [
    "# Question #6"
   ]
  },
  {
   "cell_type": "markdown",
   "metadata": {},
   "source": [
    "Is there a significant difference between males and females in normal temperature?\n",
    "+ What testing approach did you use and why?\n",
    "+ Write a story with your conclusion in the context of the original problem."
   ]
  },
  {
   "cell_type": "code",
   "execution_count": 40,
   "metadata": {},
   "outputs": [
    {
     "data": {
      "text/html": [
       "<div>\n",
       "<style scoped>\n",
       "    .dataframe tbody tr th:only-of-type {\n",
       "        vertical-align: middle;\n",
       "    }\n",
       "\n",
       "    .dataframe tbody tr th {\n",
       "        vertical-align: top;\n",
       "    }\n",
       "\n",
       "    .dataframe thead th {\n",
       "        text-align: right;\n",
       "    }\n",
       "</style>\n",
       "<table border=\"1\" class=\"dataframe\">\n",
       "  <thead>\n",
       "    <tr style=\"text-align: right;\">\n",
       "      <th></th>\n",
       "      <th>count</th>\n",
       "      <th>mean</th>\n",
       "      <th>std</th>\n",
       "      <th>min</th>\n",
       "      <th>25%</th>\n",
       "      <th>50%</th>\n",
       "      <th>75%</th>\n",
       "      <th>max</th>\n",
       "    </tr>\n",
       "    <tr>\n",
       "      <th>gender</th>\n",
       "      <th></th>\n",
       "      <th></th>\n",
       "      <th></th>\n",
       "      <th></th>\n",
       "      <th></th>\n",
       "      <th></th>\n",
       "      <th></th>\n",
       "      <th></th>\n",
       "    </tr>\n",
       "  </thead>\n",
       "  <tbody>\n",
       "    <tr>\n",
       "      <th>F</th>\n",
       "      <td>65.0</td>\n",
       "      <td>98.393846</td>\n",
       "      <td>0.743488</td>\n",
       "      <td>96.4</td>\n",
       "      <td>98.0</td>\n",
       "      <td>98.4</td>\n",
       "      <td>98.8</td>\n",
       "      <td>100.8</td>\n",
       "    </tr>\n",
       "    <tr>\n",
       "      <th>M</th>\n",
       "      <td>65.0</td>\n",
       "      <td>98.104615</td>\n",
       "      <td>0.698756</td>\n",
       "      <td>96.3</td>\n",
       "      <td>97.6</td>\n",
       "      <td>98.1</td>\n",
       "      <td>98.6</td>\n",
       "      <td>99.5</td>\n",
       "    </tr>\n",
       "  </tbody>\n",
       "</table>\n",
       "</div>"
      ],
      "text/plain": [
       "        count       mean       std   min   25%   50%   75%    max\n",
       "gender                                                           \n",
       "F        65.0  98.393846  0.743488  96.4  98.0  98.4  98.8  100.8\n",
       "M        65.0  98.104615  0.698756  96.3  97.6  98.1  98.6   99.5"
      ]
     },
     "execution_count": 40,
     "metadata": {},
     "output_type": "execute_result"
    }
   ],
   "source": [
    "# First, we group the temperature results by gender. \n",
    "# The difference in mean temperature is small, but it could still be significant.\n",
    "gends = df.groupby('gender').temperature.describe()\n",
    "gends"
   ]
  },
  {
   "cell_type": "markdown",
   "metadata": {},
   "source": [
    "### Null hypothesis: There is no significant difference in body temperature between men and women.\n",
    "### Alternate hypothesis: There IS a significant difference in body temperature between men and women."
   ]
  },
  {
   "cell_type": "code",
   "execution_count": 41,
   "metadata": {},
   "outputs": [],
   "source": [
    "# For the significance testing, we'll set an alpha of 0.05.\n",
    "alpha = 0.05"
   ]
  },
  {
   "cell_type": "code",
   "execution_count": 42,
   "metadata": {},
   "outputs": [],
   "source": [
    "# Isolate the data for men and women and calculate mean and standard deviation.\n",
    "men = df[df.gender == 'M'].temperature\n",
    "women = df[df.gender == 'F'].temperature\n",
    "men_tmean = men.mean()\n",
    "men_tstd = men.std()\n",
    "women_tmean = women.mean()\n",
    "women_tstd = women.std()\n",
    "gdiff = np.abs(men_tmean - women_tmean)"
   ]
  },
  {
   "cell_type": "code",
   "execution_count": 64,
   "metadata": {},
   "outputs": [
    {
     "data": {
      "image/png": "[encoded data removed]",
      "text/plain": [
       "<Figure size 432x288 with 1 Axes>"
      ]
     },
     "metadata": {
      "needs_background": "light"
     },
     "output_type": "display_data"
    }
   ],
   "source": [
    "# Plot the histogram for men and women.\n",
    "plt.hist(men,bins = 11,range=[96,100],color='blue',alpha=0.5,density=True)\n",
    "plt.hist(women,bins = 11,range=[96,100],color='red',alpha=0.5,density=True)\n",
    "plt.xlabel('Temperature (F)')\n",
    "plt.ylabel('Frequency')\n",
    "plt.legend(['Male','Female'])\n",
    "plt.show()"
   ]
  },
  {
   "cell_type": "markdown",
   "metadata": {},
   "source": [
    "### The histograms for men and women show a slight difference, but are inconclusive. We'll instead look at the ECDF, which is typically better for comparing distributions."
   ]
  },
  {
   "cell_type": "code",
   "execution_count": 44,
   "metadata": {},
   "outputs": [],
   "source": [
    "# Calculate the ECDF for males and females.\n",
    "men_x,men_y = ecdf(men)\n",
    "women_x,women_y = ecdf(women)"
   ]
  },
  {
   "cell_type": "code",
   "execution_count": 45,
   "metadata": {},
   "outputs": [],
   "source": [
    "# Simulate male and female normal distributions using their respective mean and std.\n",
    "norm_m = np.random.normal(men_tmean,men_tstd,1000000)\n",
    "norm_w = np.random.normal(women_tmean,women_tstd,1000000)\n",
    "normmx,normmy = ecdf(norm_m)\n",
    "normwx,normwy = ecdf(norm_w)"
   ]
  },
  {
   "cell_type": "code",
   "execution_count": 46,
   "metadata": {},
   "outputs": [
    {
     "data": {
      "image/png": "[encoded data removed]",
      "text/plain": [
       "<Figure size 432x288 with 1 Axes>"
      ]
     },
     "metadata": {
      "needs_background": "light"
     },
     "output_type": "display_data"
    }
   ],
   "source": [
    "# Plot the ECDF for men and women, with their respective normal distribution fits.\n",
    "plt.plot(men_x,men_y,color='blue')\n",
    "plt.plot(women_x,women_y,color='red')#,linestyle='--')\n",
    "plt.plot(normmx,normmy,color='g',linestyle='--',linewidth=1)\n",
    "plt.plot(normwx,normwy,color='k',linestyle='--',linewidth=1)\n",
    "plt.xlabel('Temperature (F)')\n",
    "plt.ylabel('ECDF')\n",
    "plt.axis([96.5,100.5,0,1])\n",
    "plt.legend(['Male','Female','Male normal','Female normal'])\n",
    "plt.show()"
   ]
  },
  {
   "cell_type": "markdown",
   "metadata": {},
   "source": [
    "### In the ECDF plot, the male/female difference stands out more. The fitted normal curves suggest that both distributions are approximately normal."
   ]
  },
  {
   "cell_type": "code",
   "execution_count": 47,
   "metadata": {},
   "outputs": [],
   "source": [
    "# Using the combined male and female observations, extract random samples for each subset population.\n",
    "# Calculate the difference in means, and repeat 10,000 times, storing in 'tstat' variable.\n",
    "MW = df.temperature\n",
    "lenm = len(men)\n",
    "N = 10000\n",
    "tstat = np.empty(N)\n",
    "for i in range(N):\n",
    "    MWp = np.random.permutation(MW)\n",
    "    Mp = MWp[:lenm]\n",
    "    Wp = MWp[lenm:]\n",
    "    tstat[i] = np.mean(Mp) - np.mean(Wp)"
   ]
  },
  {
   "cell_type": "code",
   "execution_count": 48,
   "metadata": {},
   "outputs": [
    {
     "data": {
      "text/plain": [
       "<matplotlib.legend.Legend at 0x1a2581b450>"
      ]
     },
     "execution_count": 48,
     "metadata": {},
     "output_type": "execute_result"
    },
    {
     "data": {
      "image/png": "[encoded data removed]",
      "text/plain": [
       "<Figure size 432x288 with 1 Axes>"
      ]
     },
     "metadata": {
      "needs_background": "light"
     },
     "output_type": "display_data"
    }
   ],
   "source": [
    "# Plot the histogram of the distribution of the difference.\n",
    "# The red dotted lines represent the observed difference, in both directions.\n",
    "plt.hist(tstat,density=True,bins=20)\n",
    "plt.plot([-gdiff,-gdiff],[0,2],linestyle='--',color='r')\n",
    "plt.plot([gdiff,gdiff],[0,2],linestyle='--',color='r')\n",
    "plt.xlabel('Resampled, Male mean minus Female mean')\n",
    "plt.ylabel('Frequency')\n",
    "plt.legend(['Observed','Observed','Resampling'],loc='upper right')"
   ]
  },
  {
   "cell_type": "markdown",
   "metadata": {},
   "source": [
    "### From the histogram above, we see that the observed difference appears on the tails of the distribution, suggesting that the difference is unlikely to have happened by chance."
   ]
  },
  {
   "cell_type": "code",
   "execution_count": 49,
   "metadata": {},
   "outputs": [
    {
     "data": {
      "text/plain": [
       "0.0249"
      ]
     },
     "execution_count": 49,
     "metadata": {},
     "output_type": "execute_result"
    }
   ],
   "source": [
    "# Calculate p-value \n",
    "pvalgender = float(np.sum(np.abs(tstat) > gdiff)) / len(tstat)\n",
    "pvalgender"
   ]
  },
  {
   "cell_type": "code",
   "execution_count": 50,
   "metadata": {},
   "outputs": [
    {
     "data": {
      "text/plain": [
       "True"
      ]
     },
     "execution_count": 50,
     "metadata": {},
     "output_type": "execute_result"
    }
   ],
   "source": [
    "pvalgender < alpha"
   ]
  },
  {
   "cell_type": "markdown",
   "metadata": {},
   "source": [
    "### The p-value (pvalgender) is the chance that the observed difference in body temperature between men and women happened by chance. In this case, the p-value is 0.0256, which is less than the significance level (alpha) of 0.05. There is a statistically significant difference in body temperature between men and women, and thus the difference is likely not due to chance."
   ]
  }
 ],
 "metadata": {
  "kernelspec": {
   "display_name": "Python 2",
   "language": "python",
   "name": "python2"
  },
  "language_info": {
   "codemirror_mode": {
    "name": "ipython",
    "version": 2
   },
   "file_extension": ".py",
   "mimetype": "text/x-python",
   "name": "python",
   "nbconvert_exporter": "python",
   "pygments_lexer": "ipython2",
   "version": "2.7.15"
  }
 },
 "nbformat": 4,
 "nbformat_minor": 1
}
