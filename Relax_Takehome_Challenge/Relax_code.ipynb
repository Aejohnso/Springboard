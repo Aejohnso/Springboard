{
 "cells": [
  {
   "cell_type": "markdown",
   "metadata": {},
   "source": [
    "### Import packages"
   ]
  },
  {
   "cell_type": "code",
   "execution_count": 1,
   "metadata": {},
   "outputs": [
    {
     "name": "stderr",
     "output_type": "stream",
     "text": [
      "Using TensorFlow backend.\n"
     ]
    }
   ],
   "source": [
    "import pandas as pd\n",
    "from keras.models import Model, Sequential, model_from_json,load_model\n",
    "from keras.layers import Input, Convolution2D, ZeroPadding2D, MaxPooling2D, Flatten, Dense, Dropout, Activation\n",
    "from keras.preprocessing.image import load_img, save_img, img_to_array,ImageDataGenerator\n",
    "from keras.applications.imagenet_utils import preprocess_input\n",
    "from keras.preprocessing import image\n",
    "from keras.utils import to_categorical\n",
    "from keras.callbacks import History, EarlyStopping\n",
    "import keras\n",
    "from PIL import Image\n",
    "import numpy as np\n",
    "import matplotlib.pyplot as plt\n",
    "from matplotlib.pyplot import imread\n",
    "from scipy.misc import imresize\n",
    "import os\n",
    "import PIL\n",
    "from skimage.transform import resize\n",
    "from sklearn.metrics import accuracy_score, confusion_matrix\n",
    "import pickle\n",
    "from lime import lime_image\n",
    "import lime\n",
    "from skimage.segmentation import mark_boundaries\n",
    "import imageio\n",
    "plt.style.use('ggplot')\n",
    "from datetime import datetime as dt\n",
    "import category_encoders as ce\n",
    "from sklearn.model_selection import train_test_split as TTS\n",
    "from sklearn.linear_model import LinearRegression as LinR, LogisticRegression as LogR\n",
    "from sklearn.metrics import roc_curve, auc,accuracy_score, confusion_matrix, roc_auc_score, precision_recall_curve, classification_report\n",
    "from sklearn import metrics\n",
    "from sklearn.model_selection import KFold,GridSearchCV as GSCV, RandomizedSearchCV as RSCV\n",
    "from sklearn.ensemble import RandomForestClassifier as RFC,RandomForestRegressor as RFR\n",
    "import sklearn.model_selection"
   ]
  },
  {
   "cell_type": "code",
   "execution_count": 2,
   "metadata": {},
   "outputs": [],
   "source": [
    "def do_auc_prec_recall(y_actual,y_pred,show_confusion):\n",
    "    \"\"\"Displays Precision, Recall, AUC, Accuracy vs. Threshold\"\"\"\n",
    "    precision, recall, thresholds = precision_recall_curve(y_actual, y_pred) \n",
    "    pr_auc = metrics.auc(recall, precision)\n",
    "    plt.plot(thresholds, precision[: -1], \"b--\", label=\"Precision\")\n",
    "    plt.plot(thresholds, recall[: -1], \"r--\", label=\"Recall\")\n",
    "    plt.legend(loc=\"lower left\")\n",
    "    plt.ylim([0,1])\n",
    "    pred_proba_df = pd.DataFrame(y_pred)\n",
    "    threshold_list = [0.05,0.1,0.15,0.2,0.25,0.3,0.35,0.4,0.45,0.5,.55,.6,.65,.7,.75,.8,.85] \n",
    "    aucs = []\n",
    "    accs = []\n",
    "    for i in threshold_list:\n",
    "        \n",
    "        Y_test_pred = pred_proba_df.applymap(lambda x: 1 if x>i else 0)\n",
    "        accuracy = metrics.accuracy_score(y_actual, Y_test_pred)\n",
    "        auc = metrics.roc_auc_score(y_actual, Y_test_pred)\n",
    "        aucs.append(auc)\n",
    "        accs.append(accuracy)\n",
    "        if show_confusion == 1:\n",
    "            print ('******** For i = {} ******'.format(i))\n",
    "            print(confusion_matrix(y_actual,Y_test_pred))\n",
    "    plt.plot(threshold_list,aucs,marker='o',color='r')\n",
    "    plt.plot(threshold_list,accs,marker='o',color='b')\n",
    "    plt.legend(['AUC','Accuracy'])\n",
    "    plt.xlabel('Threshold')\n",
    "    plt.ylabel('Metric')\n",
    "    plt.legend(['Precision','Recall','AUC','Accuracy'])\n",
    "\n",
    "\n",
    "def get_metrics(mod,Xtrain,Xtest,ytrain,ytest,thresh):\n",
    "    \"\"\"Display ROC AUC and confusion matrix for input model\"\"\"\n",
    "    \n",
    "    #Training SET\n",
    "    print('TRAINING SET')\n",
    "    y_pred2 = mod.predict_proba(Xtrain)[:,1]\n",
    "    print('AUC = ' , roc_auc_score(ytrain, y_pred2))\n",
    "    y_pred2[y_pred2>thresh]=1\n",
    "    y_pred2[y_pred2<1]=0\n",
    "    print(confusion_matrix(ytrain,y_pred2))\n",
    "\n",
    "    #TESTING SET\n",
    "    print('TEST SET')\n",
    "    y_pred2 = mod.predict_proba(Xtest)[:,1]\n",
    "    print('AUC = ' , roc_auc_score(ytest, y_pred2))\n",
    "    y_pred2[y_pred2>thresh]=1\n",
    "    y_pred2[y_pred2<1]=0\n",
    "    print(confusion_matrix(ytest,y_pred2))    \n",
    "    return \n",
    "\n",
    "def my_makedir(path):\n",
    "    \"\"\"If a directory, does not exist, create it.\"\"\"\n",
    "    if not os.path.exists(path):\n",
    "        os.makedirs(path)\n",
    "    return path"
   ]
  },
  {
   "cell_type": "code",
   "execution_count": 3,
   "metadata": {},
   "outputs": [
    {
     "data": {
      "text/html": [
       "<div>\n",
       "<style scoped>\n",
       "    .dataframe tbody tr th:only-of-type {\n",
       "        vertical-align: middle;\n",
       "    }\n",
       "\n",
       "    .dataframe tbody tr th {\n",
       "        vertical-align: top;\n",
       "    }\n",
       "\n",
       "    .dataframe thead th {\n",
       "        text-align: right;\n",
       "    }\n",
       "</style>\n",
       "<table border=\"1\" class=\"dataframe\">\n",
       "  <thead>\n",
       "    <tr style=\"text-align: right;\">\n",
       "      <th></th>\n",
       "      <th>creation_time</th>\n",
       "      <th>name</th>\n",
       "      <th>email</th>\n",
       "      <th>creation_source</th>\n",
       "      <th>last_session_creation_time</th>\n",
       "      <th>opted_in_to_mailing_list</th>\n",
       "      <th>enabled_for_marketing_drip</th>\n",
       "      <th>org_id</th>\n",
       "      <th>invited_by_user_id</th>\n",
       "    </tr>\n",
       "    <tr>\n",
       "      <th>object_id</th>\n",
       "      <th></th>\n",
       "      <th></th>\n",
       "      <th></th>\n",
       "      <th></th>\n",
       "      <th></th>\n",
       "      <th></th>\n",
       "      <th></th>\n",
       "      <th></th>\n",
       "      <th></th>\n",
       "    </tr>\n",
       "  </thead>\n",
       "  <tbody>\n",
       "    <tr>\n",
       "      <th>1</th>\n",
       "      <td>2014-04-22 03:53:30</td>\n",
       "      <td>Clausen August</td>\n",
       "      <td>AugustCClausen@yahoo.com</td>\n",
       "      <td>GUEST_INVITE</td>\n",
       "      <td>1.398139e+09</td>\n",
       "      <td>1</td>\n",
       "      <td>0</td>\n",
       "      <td>11</td>\n",
       "      <td>10803.0</td>\n",
       "    </tr>\n",
       "    <tr>\n",
       "      <th>2</th>\n",
       "      <td>2013-11-15 03:45:04</td>\n",
       "      <td>Poole Matthew</td>\n",
       "      <td>MatthewPoole@gustr.com</td>\n",
       "      <td>ORG_INVITE</td>\n",
       "      <td>1.396238e+09</td>\n",
       "      <td>0</td>\n",
       "      <td>0</td>\n",
       "      <td>1</td>\n",
       "      <td>316.0</td>\n",
       "    </tr>\n",
       "    <tr>\n",
       "      <th>3</th>\n",
       "      <td>2013-03-19 23:14:52</td>\n",
       "      <td>Bottrill Mitchell</td>\n",
       "      <td>MitchellBottrill@gustr.com</td>\n",
       "      <td>ORG_INVITE</td>\n",
       "      <td>1.363735e+09</td>\n",
       "      <td>0</td>\n",
       "      <td>0</td>\n",
       "      <td>94</td>\n",
       "      <td>1525.0</td>\n",
       "    </tr>\n",
       "  </tbody>\n",
       "</table>\n",
       "</div>"
      ],
      "text/plain": [
       "                 creation_time               name                       email  \\\n",
       "object_id                                                                       \n",
       "1          2014-04-22 03:53:30     Clausen August    AugustCClausen@yahoo.com   \n",
       "2          2013-11-15 03:45:04      Poole Matthew      MatthewPoole@gustr.com   \n",
       "3          2013-03-19 23:14:52  Bottrill Mitchell  MitchellBottrill@gustr.com   \n",
       "\n",
       "          creation_source  last_session_creation_time  \\\n",
       "object_id                                               \n",
       "1            GUEST_INVITE                1.398139e+09   \n",
       "2              ORG_INVITE                1.396238e+09   \n",
       "3              ORG_INVITE                1.363735e+09   \n",
       "\n",
       "           opted_in_to_mailing_list  enabled_for_marketing_drip  org_id  \\\n",
       "object_id                                                                 \n",
       "1                                 1                           0      11   \n",
       "2                                 0                           0       1   \n",
       "3                                 0                           0      94   \n",
       "\n",
       "           invited_by_user_id  \n",
       "object_id                      \n",
       "1                     10803.0  \n",
       "2                       316.0  \n",
       "3                      1525.0  "
      ]
     },
     "execution_count": 3,
     "metadata": {},
     "output_type": "execute_result"
    }
   ],
   "source": [
    "file_users = 'takehome_users.csv'\n",
    "file_actions = 'takehome_user_engagement.csv'\n",
    "users = pd.read_csv(file_users,header=0,parse_dates=True, encoding='latin1',index_col=0)\n",
    "users.head(3)"
   ]
  },
  {
   "cell_type": "code",
   "execution_count": 4,
   "metadata": {},
   "outputs": [
    {
     "name": "stdout",
     "output_type": "stream",
     "text": [
      "<class 'pandas.core.frame.DataFrame'>\n",
      "Int64Index: 12000 entries, 1 to 12000\n",
      "Data columns (total 9 columns):\n",
      "creation_time                 12000 non-null object\n",
      "name                          12000 non-null object\n",
      "email                         12000 non-null object\n",
      "creation_source               12000 non-null object\n",
      "last_session_creation_time    8823 non-null float64\n",
      "opted_in_to_mailing_list      12000 non-null int64\n",
      "enabled_for_marketing_drip    12000 non-null int64\n",
      "org_id                        12000 non-null int64\n",
      "invited_by_user_id            6417 non-null float64\n",
      "dtypes: float64(2), int64(3), object(4)\n",
      "memory usage: 937.5+ KB\n"
     ]
    }
   ],
   "source": [
    "users.info()"
   ]
  },
  {
   "cell_type": "code",
   "execution_count": 5,
   "metadata": {},
   "outputs": [],
   "source": [
    "# Set time nulls to 0\n",
    "users.loc[users.last_session_creation_time.isnull(),'last_session_creation_time']=0\n",
    "users.loc[users.creation_time.isnull(),'creation_time']=0"
   ]
  },
  {
   "cell_type": "code",
   "execution_count": 6,
   "metadata": {},
   "outputs": [],
   "source": [
    "# Create datetime column\n",
    "users['last_session_creation_time2'] = pd.to_datetime(users.last_session_creation_time,unit='s')"
   ]
  },
  {
   "cell_type": "code",
   "execution_count": 7,
   "metadata": {
    "scrolled": true
   },
   "outputs": [],
   "source": [
    "# Create datetime column\n",
    "users['creation_time2'] = pd.to_datetime(users.creation_time,format ='%Y-%m-%d %H:%M:%S')"
   ]
  },
  {
   "cell_type": "code",
   "execution_count": 8,
   "metadata": {},
   "outputs": [],
   "source": [
    "users = users.drop('creation_time',axis=1).drop('last_session_creation_time',axis=1)"
   ]
  },
  {
   "cell_type": "code",
   "execution_count": 9,
   "metadata": {},
   "outputs": [
    {
     "name": "stdout",
     "output_type": "stream",
     "text": [
      "<class 'pandas.core.frame.DataFrame'>\n",
      "Int64Index: 12000 entries, 1 to 12000\n",
      "Data columns (total 9 columns):\n",
      "name                           12000 non-null object\n",
      "email                          12000 non-null object\n",
      "creation_source                12000 non-null object\n",
      "opted_in_to_mailing_list       12000 non-null int64\n",
      "enabled_for_marketing_drip     12000 non-null int64\n",
      "org_id                         12000 non-null int64\n",
      "invited_by_user_id             6417 non-null float64\n",
      "last_session_creation_time2    12000 non-null datetime64[ns]\n",
      "creation_time2                 12000 non-null datetime64[ns]\n",
      "dtypes: datetime64[ns](2), float64(1), int64(3), object(3)\n",
      "memory usage: 937.5+ KB\n"
     ]
    }
   ],
   "source": [
    "users.info()"
   ]
  },
  {
   "cell_type": "code",
   "execution_count": 10,
   "metadata": {},
   "outputs": [
    {
     "data": {
      "text/html": [
       "<div>\n",
       "<style scoped>\n",
       "    .dataframe tbody tr th:only-of-type {\n",
       "        vertical-align: middle;\n",
       "    }\n",
       "\n",
       "    .dataframe tbody tr th {\n",
       "        vertical-align: top;\n",
       "    }\n",
       "\n",
       "    .dataframe thead th {\n",
       "        text-align: right;\n",
       "    }\n",
       "</style>\n",
       "<table border=\"1\" class=\"dataframe\">\n",
       "  <thead>\n",
       "    <tr style=\"text-align: right;\">\n",
       "      <th></th>\n",
       "      <th>time_stamp</th>\n",
       "      <th>user_id</th>\n",
       "      <th>visited</th>\n",
       "    </tr>\n",
       "  </thead>\n",
       "  <tbody>\n",
       "    <tr>\n",
       "      <th>0</th>\n",
       "      <td>2014-04-22 03:53:30</td>\n",
       "      <td>1</td>\n",
       "      <td>1</td>\n",
       "    </tr>\n",
       "    <tr>\n",
       "      <th>1</th>\n",
       "      <td>2013-11-15 03:45:04</td>\n",
       "      <td>2</td>\n",
       "      <td>1</td>\n",
       "    </tr>\n",
       "    <tr>\n",
       "      <th>2</th>\n",
       "      <td>2013-11-29 03:45:04</td>\n",
       "      <td>2</td>\n",
       "      <td>1</td>\n",
       "    </tr>\n",
       "  </tbody>\n",
       "</table>\n",
       "</div>"
      ],
      "text/plain": [
       "            time_stamp  user_id  visited\n",
       "0  2014-04-22 03:53:30        1        1\n",
       "1  2013-11-15 03:45:04        2        1\n",
       "2  2013-11-29 03:45:04        2        1"
      ]
     },
     "execution_count": 10,
     "metadata": {},
     "output_type": "execute_result"
    }
   ],
   "source": [
    "actions = pd.read_csv(file_actions,header=0,parse_dates=True, encoding='latin1')\n",
    "actions.head(3)"
   ]
  },
  {
   "cell_type": "code",
   "execution_count": 11,
   "metadata": {},
   "outputs": [
    {
     "name": "stdout",
     "output_type": "stream",
     "text": [
      "<class 'pandas.core.frame.DataFrame'>\n",
      "RangeIndex: 207917 entries, 0 to 207916\n",
      "Data columns (total 3 columns):\n",
      "time_stamp    207917 non-null object\n",
      "user_id       207917 non-null int64\n",
      "visited       207917 non-null int64\n",
      "dtypes: int64(2), object(1)\n",
      "memory usage: 4.8+ MB\n"
     ]
    }
   ],
   "source": [
    "actions.info()"
   ]
  },
  {
   "cell_type": "code",
   "execution_count": 12,
   "metadata": {},
   "outputs": [],
   "source": [
    "# Create datetime column\n",
    "actions['time_stamp2'] = pd.to_datetime(actions.time_stamp,format ='%Y-%m-%d %H:%M:%S')\n",
    "actions = actions.drop('time_stamp',axis=1)"
   ]
  },
  {
   "cell_type": "code",
   "execution_count": 13,
   "metadata": {},
   "outputs": [
    {
     "data": {
      "text/html": [
       "<div>\n",
       "<style scoped>\n",
       "    .dataframe tbody tr th:only-of-type {\n",
       "        vertical-align: middle;\n",
       "    }\n",
       "\n",
       "    .dataframe tbody tr th {\n",
       "        vertical-align: top;\n",
       "    }\n",
       "\n",
       "    .dataframe thead th {\n",
       "        text-align: right;\n",
       "    }\n",
       "</style>\n",
       "<table border=\"1\" class=\"dataframe\">\n",
       "  <thead>\n",
       "    <tr style=\"text-align: right;\">\n",
       "      <th></th>\n",
       "      <th>user_id</th>\n",
       "      <th>visited</th>\n",
       "      <th>time_stamp2</th>\n",
       "    </tr>\n",
       "  </thead>\n",
       "  <tbody>\n",
       "    <tr>\n",
       "      <th>0</th>\n",
       "      <td>1</td>\n",
       "      <td>1</td>\n",
       "      <td>2014-04-22 03:53:30</td>\n",
       "    </tr>\n",
       "    <tr>\n",
       "      <th>1</th>\n",
       "      <td>2</td>\n",
       "      <td>1</td>\n",
       "      <td>2013-11-15 03:45:04</td>\n",
       "    </tr>\n",
       "    <tr>\n",
       "      <th>2</th>\n",
       "      <td>2</td>\n",
       "      <td>1</td>\n",
       "      <td>2013-11-29 03:45:04</td>\n",
       "    </tr>\n",
       "  </tbody>\n",
       "</table>\n",
       "</div>"
      ],
      "text/plain": [
       "   user_id  visited         time_stamp2\n",
       "0        1        1 2014-04-22 03:53:30\n",
       "1        2        1 2013-11-15 03:45:04\n",
       "2        2        1 2013-11-29 03:45:04"
      ]
     },
     "execution_count": 13,
     "metadata": {},
     "output_type": "execute_result"
    }
   ],
   "source": [
    "actions.head(3)"
   ]
  },
  {
   "cell_type": "markdown",
   "metadata": {},
   "source": [
    "<div class=\"span5 alert alert-success\">\n",
    "<p> Below, I calculate if each user is \"adopted\" or not. That is, I extract the actions for each user, sort by date, and then loop through the dates. If date[i] is less than or equal to 7 days later than date[i-2], that means there are 3 logins in that week and thus that user is \"adopted\". This method works because there is only one user action per day.\n",
    "\n",
    "   </p>\n",
    "</div>\n"
   ]
  },
  {
   "cell_type": "code",
   "execution_count": 14,
   "metadata": {},
   "outputs": [],
   "source": [
    "users['is_adopted'] = 0\n",
    "for tmp in range(1,len(users)+1):\n",
    "    actions2 = actions[actions.user_id==tmp]\n",
    "    actions2 = actions2.sort_values(by='time_stamp2')\n",
    "    lentmp = len(actions2)\n",
    "    is_adopted = 0\n",
    "    for i in range(2,lentmp):\n",
    "        t2 = actions2.iloc[i,2]\n",
    "        t1 = actions2.iloc[i-2,2]\n",
    "        delt = (t2-t1).days\n",
    "        if delt <= 7:\n",
    "            users.loc[tmp,'is_adopted'] = 1\n",
    "            break"
   ]
  },
  {
   "cell_type": "code",
   "execution_count": 15,
   "metadata": {},
   "outputs": [],
   "source": [
    "# Create column that says if a user was invited by someone else\n",
    "users['invited_by_user'] = (users['invited_by_user_id'].isnull()==False).astype(int)"
   ]
  },
  {
   "cell_type": "code",
   "execution_count": 16,
   "metadata": {},
   "outputs": [
    {
     "data": {
      "text/html": [
       "<div>\n",
       "<style scoped>\n",
       "    .dataframe tbody tr th:only-of-type {\n",
       "        vertical-align: middle;\n",
       "    }\n",
       "\n",
       "    .dataframe tbody tr th {\n",
       "        vertical-align: top;\n",
       "    }\n",
       "\n",
       "    .dataframe thead th {\n",
       "        text-align: right;\n",
       "    }\n",
       "</style>\n",
       "<table border=\"1\" class=\"dataframe\">\n",
       "  <thead>\n",
       "    <tr style=\"text-align: right;\">\n",
       "      <th></th>\n",
       "      <th>name</th>\n",
       "      <th>email</th>\n",
       "      <th>creation_source</th>\n",
       "      <th>opted_in_to_mailing_list</th>\n",
       "      <th>enabled_for_marketing_drip</th>\n",
       "      <th>org_id</th>\n",
       "      <th>invited_by_user_id</th>\n",
       "      <th>last_session_creation_time2</th>\n",
       "      <th>creation_time2</th>\n",
       "      <th>is_adopted</th>\n",
       "      <th>invited_by_user</th>\n",
       "    </tr>\n",
       "    <tr>\n",
       "      <th>object_id</th>\n",
       "      <th></th>\n",
       "      <th></th>\n",
       "      <th></th>\n",
       "      <th></th>\n",
       "      <th></th>\n",
       "      <th></th>\n",
       "      <th></th>\n",
       "      <th></th>\n",
       "      <th></th>\n",
       "      <th></th>\n",
       "      <th></th>\n",
       "    </tr>\n",
       "  </thead>\n",
       "  <tbody>\n",
       "    <tr>\n",
       "      <th>1</th>\n",
       "      <td>Clausen August</td>\n",
       "      <td>AugustCClausen@yahoo.com</td>\n",
       "      <td>GUEST_INVITE</td>\n",
       "      <td>1</td>\n",
       "      <td>0</td>\n",
       "      <td>11</td>\n",
       "      <td>10803.0</td>\n",
       "      <td>2014-04-22 03:53:30</td>\n",
       "      <td>2014-04-22 03:53:30</td>\n",
       "      <td>0</td>\n",
       "      <td>1</td>\n",
       "    </tr>\n",
       "    <tr>\n",
       "      <th>2</th>\n",
       "      <td>Poole Matthew</td>\n",
       "      <td>MatthewPoole@gustr.com</td>\n",
       "      <td>ORG_INVITE</td>\n",
       "      <td>0</td>\n",
       "      <td>0</td>\n",
       "      <td>1</td>\n",
       "      <td>316.0</td>\n",
       "      <td>2014-03-31 03:45:04</td>\n",
       "      <td>2013-11-15 03:45:04</td>\n",
       "      <td>1</td>\n",
       "      <td>1</td>\n",
       "    </tr>\n",
       "    <tr>\n",
       "      <th>3</th>\n",
       "      <td>Bottrill Mitchell</td>\n",
       "      <td>MitchellBottrill@gustr.com</td>\n",
       "      <td>ORG_INVITE</td>\n",
       "      <td>0</td>\n",
       "      <td>0</td>\n",
       "      <td>94</td>\n",
       "      <td>1525.0</td>\n",
       "      <td>2013-03-19 23:14:52</td>\n",
       "      <td>2013-03-19 23:14:52</td>\n",
       "      <td>0</td>\n",
       "      <td>1</td>\n",
       "    </tr>\n",
       "  </tbody>\n",
       "</table>\n",
       "</div>"
      ],
      "text/plain": [
       "                        name                       email creation_source  \\\n",
       "object_id                                                                  \n",
       "1             Clausen August    AugustCClausen@yahoo.com    GUEST_INVITE   \n",
       "2              Poole Matthew      MatthewPoole@gustr.com      ORG_INVITE   \n",
       "3          Bottrill Mitchell  MitchellBottrill@gustr.com      ORG_INVITE   \n",
       "\n",
       "           opted_in_to_mailing_list  enabled_for_marketing_drip  org_id  \\\n",
       "object_id                                                                 \n",
       "1                                 1                           0      11   \n",
       "2                                 0                           0       1   \n",
       "3                                 0                           0      94   \n",
       "\n",
       "           invited_by_user_id last_session_creation_time2      creation_time2  \\\n",
       "object_id                                                                       \n",
       "1                     10803.0         2014-04-22 03:53:30 2014-04-22 03:53:30   \n",
       "2                       316.0         2014-03-31 03:45:04 2013-11-15 03:45:04   \n",
       "3                      1525.0         2013-03-19 23:14:52 2013-03-19 23:14:52   \n",
       "\n",
       "           is_adopted  invited_by_user  \n",
       "object_id                               \n",
       "1                   0                1  \n",
       "2                   1                1  \n",
       "3                   0                1  "
      ]
     },
     "execution_count": 16,
     "metadata": {},
     "output_type": "execute_result"
    }
   ],
   "source": [
    "users.head(3)"
   ]
  },
  {
   "cell_type": "markdown",
   "metadata": {},
   "source": [
    "### Statistical Significance Tests"
   ]
  },
  {
   "cell_type": "code",
   "execution_count": 67,
   "metadata": {},
   "outputs": [
    {
     "data": {
      "text/html": [
       "<div>\n",
       "<style scoped>\n",
       "    .dataframe tbody tr th:only-of-type {\n",
       "        vertical-align: middle;\n",
       "    }\n",
       "\n",
       "    .dataframe tbody tr th {\n",
       "        vertical-align: top;\n",
       "    }\n",
       "\n",
       "    .dataframe thead th {\n",
       "        text-align: right;\n",
       "    }\n",
       "</style>\n",
       "<table border=\"1\" class=\"dataframe\">\n",
       "  <thead>\n",
       "    <tr style=\"text-align: right;\">\n",
       "      <th></th>\n",
       "      <th>opted_in_to_mailing_list</th>\n",
       "      <th>enabled_for_marketing_drip</th>\n",
       "      <th>org_id</th>\n",
       "      <th>invited_by_user_id</th>\n",
       "      <th>invited_by_user</th>\n",
       "    </tr>\n",
       "    <tr>\n",
       "      <th>is_adopted</th>\n",
       "      <th></th>\n",
       "      <th></th>\n",
       "      <th></th>\n",
       "      <th></th>\n",
       "      <th></th>\n",
       "    </tr>\n",
       "  </thead>\n",
       "  <tbody>\n",
       "    <tr>\n",
       "      <th>0</th>\n",
       "      <td>0.247970</td>\n",
       "      <td>0.148395</td>\n",
       "      <td>0.333075</td>\n",
       "      <td>5961.292839</td>\n",
       "      <td>0.529196</td>\n",
       "    </tr>\n",
       "    <tr>\n",
       "      <th>1</th>\n",
       "      <td>0.259058</td>\n",
       "      <td>0.155193</td>\n",
       "      <td>0.391000</td>\n",
       "      <td>5972.618240</td>\n",
       "      <td>0.569444</td>\n",
       "    </tr>\n",
       "  </tbody>\n",
       "</table>\n",
       "</div>"
      ],
      "text/plain": [
       "            opted_in_to_mailing_list  enabled_for_marketing_drip    org_id  \\\n",
       "is_adopted                                                                   \n",
       "0                           0.247970                    0.148395  0.333075   \n",
       "1                           0.259058                    0.155193  0.391000   \n",
       "\n",
       "            invited_by_user_id  invited_by_user  \n",
       "is_adopted                                       \n",
       "0                  5961.292839         0.529196  \n",
       "1                  5972.618240         0.569444  "
      ]
     },
     "execution_count": 67,
     "metadata": {},
     "output_type": "execute_result"
    }
   ],
   "source": [
    "means = users.groupby('is_adopted').mean()\n",
    "means"
   ]
  },
  {
   "cell_type": "code",
   "execution_count": 68,
   "metadata": {},
   "outputs": [
    {
     "data": {
      "text/html": [
       "<div>\n",
       "<style scoped>\n",
       "    .dataframe tbody tr th:only-of-type {\n",
       "        vertical-align: middle;\n",
       "    }\n",
       "\n",
       "    .dataframe tbody tr th {\n",
       "        vertical-align: top;\n",
       "    }\n",
       "\n",
       "    .dataframe thead th {\n",
       "        text-align: right;\n",
       "    }\n",
       "</style>\n",
       "<table border=\"1\" class=\"dataframe\">\n",
       "  <thead>\n",
       "    <tr style=\"text-align: right;\">\n",
       "      <th></th>\n",
       "      <th>opted_in_to_mailing_list</th>\n",
       "      <th>enabled_for_marketing_drip</th>\n",
       "      <th>org_id</th>\n",
       "      <th>invited_by_user_id</th>\n",
       "      <th>invited_by_user</th>\n",
       "    </tr>\n",
       "    <tr>\n",
       "      <th>is_adopted</th>\n",
       "      <th></th>\n",
       "      <th></th>\n",
       "      <th></th>\n",
       "      <th></th>\n",
       "      <th></th>\n",
       "    </tr>\n",
       "  </thead>\n",
       "  <tbody>\n",
       "    <tr>\n",
       "      <th>0</th>\n",
       "      <td>0.431855</td>\n",
       "      <td>0.355508</td>\n",
       "      <td>0.297837</td>\n",
       "      <td>3393.428183</td>\n",
       "      <td>0.499171</td>\n",
       "    </tr>\n",
       "    <tr>\n",
       "      <th>1</th>\n",
       "      <td>0.438250</td>\n",
       "      <td>0.362198</td>\n",
       "      <td>0.295791</td>\n",
       "      <td>3328.855648</td>\n",
       "      <td>0.495304</td>\n",
       "    </tr>\n",
       "  </tbody>\n",
       "</table>\n",
       "</div>"
      ],
      "text/plain": [
       "            opted_in_to_mailing_list  enabled_for_marketing_drip    org_id  \\\n",
       "is_adopted                                                                   \n",
       "0                           0.431855                    0.355508  0.297837   \n",
       "1                           0.438250                    0.362198  0.295791   \n",
       "\n",
       "            invited_by_user_id  invited_by_user  \n",
       "is_adopted                                       \n",
       "0                  3393.428183         0.499171  \n",
       "1                  3328.855648         0.495304  "
      ]
     },
     "execution_count": 68,
     "metadata": {},
     "output_type": "execute_result"
    }
   ],
   "source": [
    "stds = users.groupby('is_adopted').std()\n",
    "stds"
   ]
  },
  {
   "cell_type": "code",
   "execution_count": 69,
   "metadata": {},
   "outputs": [
    {
     "data": {
      "text/html": [
       "<div>\n",
       "<style scoped>\n",
       "    .dataframe tbody tr th:only-of-type {\n",
       "        vertical-align: middle;\n",
       "    }\n",
       "\n",
       "    .dataframe tbody tr th {\n",
       "        vertical-align: top;\n",
       "    }\n",
       "\n",
       "    .dataframe thead th {\n",
       "        text-align: right;\n",
       "    }\n",
       "</style>\n",
       "<table border=\"1\" class=\"dataframe\">\n",
       "  <thead>\n",
       "    <tr style=\"text-align: right;\">\n",
       "      <th></th>\n",
       "      <th>opted_in_to_mailing_list</th>\n",
       "      <th>enabled_for_marketing_drip</th>\n",
       "      <th>org_id</th>\n",
       "      <th>invited_by_user_id</th>\n",
       "      <th>invited_by_user</th>\n",
       "    </tr>\n",
       "    <tr>\n",
       "      <th>is_adopted</th>\n",
       "      <th></th>\n",
       "      <th></th>\n",
       "      <th></th>\n",
       "      <th></th>\n",
       "      <th></th>\n",
       "    </tr>\n",
       "  </thead>\n",
       "  <tbody>\n",
       "    <tr>\n",
       "      <th>0</th>\n",
       "      <td>10344</td>\n",
       "      <td>10344</td>\n",
       "      <td>10344</td>\n",
       "      <td>5474</td>\n",
       "      <td>10344</td>\n",
       "    </tr>\n",
       "    <tr>\n",
       "      <th>1</th>\n",
       "      <td>1656</td>\n",
       "      <td>1656</td>\n",
       "      <td>1656</td>\n",
       "      <td>943</td>\n",
       "      <td>1656</td>\n",
       "    </tr>\n",
       "  </tbody>\n",
       "</table>\n",
       "</div>"
      ],
      "text/plain": [
       "            opted_in_to_mailing_list  enabled_for_marketing_drip  org_id  \\\n",
       "is_adopted                                                                 \n",
       "0                              10344                       10344   10344   \n",
       "1                               1656                        1656    1656   \n",
       "\n",
       "            invited_by_user_id  invited_by_user  \n",
       "is_adopted                                       \n",
       "0                         5474            10344  \n",
       "1                          943             1656  "
      ]
     },
     "execution_count": 69,
     "metadata": {},
     "output_type": "execute_result"
    }
   ],
   "source": [
    "counts = users[['opted_in_to_mailing_list','enabled_for_marketing_drip',\n",
    "                'org_id','invited_by_user_id','invited_by_user','is_adopted']].groupby('is_adopted').count()\n",
    "counts"
   ]
  },
  {
   "cell_type": "code",
   "execution_count": 70,
   "metadata": {},
   "outputs": [
    {
     "data": {
      "text/html": [
       "<div>\n",
       "<style scoped>\n",
       "    .dataframe tbody tr th:only-of-type {\n",
       "        vertical-align: middle;\n",
       "    }\n",
       "\n",
       "    .dataframe tbody tr th {\n",
       "        vertical-align: top;\n",
       "    }\n",
       "\n",
       "    .dataframe thead th {\n",
       "        text-align: right;\n",
       "    }\n",
       "</style>\n",
       "<table border=\"1\" class=\"dataframe\">\n",
       "  <thead>\n",
       "    <tr style=\"text-align: right;\">\n",
       "      <th></th>\n",
       "      <th>Test Statistic</th>\n",
       "    </tr>\n",
       "  </thead>\n",
       "  <tbody>\n",
       "    <tr>\n",
       "      <th>opted_in_to_mailing_list</th>\n",
       "      <td>0.957834</td>\n",
       "    </tr>\n",
       "    <tr>\n",
       "      <th>enabled_for_marketing_drip</th>\n",
       "      <td>0.710919</td>\n",
       "    </tr>\n",
       "    <tr>\n",
       "      <th>org_id</th>\n",
       "      <td>7.391705</td>\n",
       "    </tr>\n",
       "    <tr>\n",
       "      <th>invited_by_user_id</th>\n",
       "      <td>0.096218</td>\n",
       "    </tr>\n",
       "    <tr>\n",
       "      <th>invited_by_user</th>\n",
       "      <td>3.066873</td>\n",
       "    </tr>\n",
       "  </tbody>\n",
       "</table>\n",
       "</div>"
      ],
      "text/plain": [
       "                            Test Statistic\n",
       "opted_in_to_mailing_list          0.957834\n",
       "enabled_for_marketing_drip        0.710919\n",
       "org_id                            7.391705\n",
       "invited_by_user_id                0.096218\n",
       "invited_by_user                   3.066873"
      ]
     },
     "execution_count": 70,
     "metadata": {},
     "output_type": "execute_result"
    }
   ],
   "source": [
    "# Calculate test statistic for each column\n",
    "# Set significance level alpha = 0.05\n",
    "tstats = {}\n",
    "columns=['opted_in_to_mailing_list','enabled_for_marketing_drip',\n",
    "                'org_id','invited_by_user_id','invited_by_user','is_adopted']\n",
    "for i in range(0,5):\n",
    "    tstat = (means.iloc[0,i]-means.iloc[1,i])/(np.sqrt(stds.iloc[0,i]**2 / counts.iloc[0,i]  \n",
    "                                                       + stds.iloc[1,i]**2 / counts.iloc[1,i] ))\n",
    "    tstats[columns[i]] = [np.abs(tstat)]\n",
    "dfstat = pd.DataFrame.from_dict(tstats).T\n",
    "dfstat.rename(index=str, columns={0:'Test Statistic'})"
   ]
  },
  {
   "cell_type": "code",
   "execution_count": 71,
   "metadata": {},
   "outputs": [
    {
     "data": {
      "text/plain": [
       "<matplotlib.legend.Legend at 0x1c311e9748>"
      ]
     },
     "execution_count": 71,
     "metadata": {},
     "output_type": "execute_result"
    },
    {
     "data": {
      "image/png": "[encoded data removed]",
      "text/plain": [
       "<matplotlib.figure.Figure at 0x1c30b7f7f0>"
      ]
     },
     "metadata": {
      "needs_background": "light"
     },
     "output_type": "display_data"
    }
   ],
   "source": [
    "dfstat = dfstat.sort_values(by=0,ascending=False)\n",
    "dfstat.rename(index=str, columns={0:'Test_Statistic'})\n",
    "dfstat.plot(kind='bar')\n",
    "plt.plot([-1,5],[2,2],'--',color='k',LineWidth=4)\n",
    "plt.ylabel('Test Statistic')\n",
    "plt.xlabel('Feature')\n",
    "plt.xticks(rotation=45)\n",
    "plt.legend(['Significance Threshold','Test Statistics'])"
   ]
  },
  {
   "cell_type": "markdown",
   "metadata": {},
   "source": [
    "<div class=\"span5 alert alert-success\">\n",
    "<p> Above, we see that the two columns with a statistically significant difference are \"org_id\" and \"invited_by_user\", with test statistics of 7.4 and 3.1, respectively. This means that with 95% confidence, we can say that the difference between adopted users and non-adopted users is significant, for both org_id and invited_by_user.\n",
    "\n",
    "   </p>\n",
    "</div>\n"
   ]
  },
  {
   "cell_type": "code",
   "execution_count": 21,
   "metadata": {},
   "outputs": [
    {
     "data": {
      "text/plain": [
       "<matplotlib.legend.Legend at 0x1c2d04df60>"
      ]
     },
     "execution_count": 21,
     "metadata": {},
     "output_type": "execute_result"
    },
    {
     "data": {
      "image/png": "[encoded data removed]",
      "text/plain": [
       "<matplotlib.figure.Figure at 0x1c2ca8afd0>"
      ]
     },
     "metadata": {
      "needs_background": "light"
     },
     "output_type": "display_data"
    }
   ],
   "source": [
    "# Histogram of 'org_id', split by adopted vs. not-adopted groups\n",
    "org1 = users.loc[users.is_adopted==1,'org_id']\n",
    "org0 = users.loc[users.is_adopted==0,'org_id']\n",
    "plt.hist(org1,alpha=0.5,density=True,bins=12)\n",
    "plt.hist(org0,alpha=0.5,density=True,bins=12)\n",
    "plt.legend(['Is Adopted','Is Not Adopted'])"
   ]
  },
  {
   "cell_type": "markdown",
   "metadata": {},
   "source": [
    "<div class=\"span5 alert alert-success\">\n",
    "<p> Above, we see a histogram of 'org_id', split by adopted vs. not-adopted groups. Even though the difference between the groups is statistically significant, we can't make a prediction from the org_id alone. All we can say is that adopted users tend to have higher org_ids and are more likely to have been invited by a user.  \n",
    "\n",
    "   </p>\n",
    "</div>\n"
   ]
  },
  {
   "cell_type": "code",
   "execution_count": 63,
   "metadata": {},
   "outputs": [],
   "source": [
    "# Independent variables for modeling\n",
    "# Use OneHotEncoding to make categorical features into their own binary columns\n",
    "encoder = ce.OneHotEncoder(cols=['creation_source'])\n",
    "Xpre = users[['creation_source','opted_in_to_mailing_list','enabled_for_marketing_drip','org_id','invited_by_user','is_adopted']]\n",
    "# Dependent variable for modeling\n",
    "y = users['is_adopted']\n",
    "encoder.fit(Xpre, y)\n",
    "X = encoder.transform(Xpre)"
   ]
  },
  {
   "cell_type": "code",
   "execution_count": 64,
   "metadata": {},
   "outputs": [],
   "source": [
    "means = X.groupby('is_adopted').mean()\n",
    "stds = X.groupby('is_adopted').std()\n",
    "counts = X.groupby('is_adopted').count()"
   ]
  },
  {
   "cell_type": "code",
   "execution_count": 65,
   "metadata": {},
   "outputs": [
    {
     "data": {
      "text/html": [
       "<div>\n",
       "<style scoped>\n",
       "    .dataframe tbody tr th:only-of-type {\n",
       "        vertical-align: middle;\n",
       "    }\n",
       "\n",
       "    .dataframe tbody tr th {\n",
       "        vertical-align: top;\n",
       "    }\n",
       "\n",
       "    .dataframe thead th {\n",
       "        text-align: right;\n",
       "    }\n",
       "</style>\n",
       "<table border=\"1\" class=\"dataframe\">\n",
       "  <thead>\n",
       "    <tr style=\"text-align: right;\">\n",
       "      <th></th>\n",
       "      <th>Test_Statistic</th>\n",
       "    </tr>\n",
       "  </thead>\n",
       "  <tbody>\n",
       "    <tr>\n",
       "      <th>GUEST_INVITE</th>\n",
       "      <td>4.537371</td>\n",
       "    </tr>\n",
       "    <tr>\n",
       "      <th>ORG_INVITE</th>\n",
       "      <td>0.725118</td>\n",
       "    </tr>\n",
       "    <tr>\n",
       "      <th>SIGNUP</th>\n",
       "      <td>0.961753</td>\n",
       "    </tr>\n",
       "    <tr>\n",
       "      <th>PERSONAL_PROJECTS</th>\n",
       "      <td>9.922317</td>\n",
       "    </tr>\n",
       "    <tr>\n",
       "      <th>SIGNUP_GOOGLE_AUTH</th>\n",
       "      <td>3.655822</td>\n",
       "    </tr>\n",
       "  </tbody>\n",
       "</table>\n",
       "</div>"
      ],
      "text/plain": [
       "                    Test_Statistic\n",
       "GUEST_INVITE              4.537371\n",
       "ORG_INVITE                0.725118\n",
       "SIGNUP                    0.961753\n",
       "PERSONAL_PROJECTS         9.922317\n",
       "SIGNUP_GOOGLE_AUTH        3.655822"
      ]
     },
     "execution_count": 65,
     "metadata": {},
     "output_type": "execute_result"
    }
   ],
   "source": [
    "# Calculate test statistic for each column of creation_source\n",
    "# Set significance level alpha = 0.05\n",
    "tstats = {}\n",
    "columns=['creation_source1','creation_source2','creation_source3','creation_source4','creation_source5']\n",
    "for i in range(0,5):\n",
    "    tstat = (means.iloc[0,i]-means.iloc[1,i])/(np.sqrt(stds.iloc[0,i]**2 / counts.iloc[0,i]  \n",
    "                                                       + stds.iloc[1,i]**2 / counts.iloc[1,i] ))\n",
    "    tmprow = encoder.category_mapping[0]['mapping'][i][0]\n",
    "    tstats[tmprow] = [np.abs(tstat)]\n",
    "dfstat = pd.DataFrame.from_dict(tstats).T\n",
    "dfstat.rename(index=str, columns={0:'Test_Statistic'})"
   ]
  },
  {
   "cell_type": "code",
   "execution_count": 66,
   "metadata": {},
   "outputs": [
    {
     "data": {
      "text/plain": [
       "<matplotlib.legend.Legend at 0x1c30f13da0>"
      ]
     },
     "execution_count": 66,
     "metadata": {},
     "output_type": "execute_result"
    },
    {
     "data": {
      "image/png": "[encoded data removed]",
      "text/plain": [
       "<matplotlib.figure.Figure at 0x1c30db3438>"
      ]
     },
     "metadata": {
      "needs_background": "light"
     },
     "output_type": "display_data"
    }
   ],
   "source": [
    "dfstat = dfstat.sort_values(by=0,ascending=False)\n",
    "dfstat.rename(index=str, columns={0:'Test_Statistic'})\n",
    "dfstat.plot(kind='bar')\n",
    "plt.plot([-1,5],[2,2],'--',color='k',LineWidth=4)\n",
    "plt.ylabel('Test Statistic')\n",
    "plt.xlabel('Feature')\n",
    "plt.xticks(rotation=45)\n",
    "plt.legend(['Significance Threshold','Test Statistics'])"
   ]
  },
  {
   "cell_type": "code",
   "execution_count": 25,
   "metadata": {},
   "outputs": [
    {
     "data": {
      "text/html": [
       "<div>\n",
       "<style scoped>\n",
       "    .dataframe tbody tr th:only-of-type {\n",
       "        vertical-align: middle;\n",
       "    }\n",
       "\n",
       "    .dataframe tbody tr th {\n",
       "        vertical-align: top;\n",
       "    }\n",
       "\n",
       "    .dataframe thead th {\n",
       "        text-align: right;\n",
       "    }\n",
       "</style>\n",
       "<table border=\"1\" class=\"dataframe\">\n",
       "  <thead>\n",
       "    <tr style=\"text-align: right;\">\n",
       "      <th></th>\n",
       "      <th>creation_source_1</th>\n",
       "      <th>creation_source_2</th>\n",
       "      <th>creation_source_3</th>\n",
       "      <th>creation_source_4</th>\n",
       "      <th>creation_source_5</th>\n",
       "    </tr>\n",
       "    <tr>\n",
       "      <th>is_adopted</th>\n",
       "      <th></th>\n",
       "      <th></th>\n",
       "      <th></th>\n",
       "      <th></th>\n",
       "      <th></th>\n",
       "    </tr>\n",
       "  </thead>\n",
       "  <tbody>\n",
       "    <tr>\n",
       "      <th>0</th>\n",
       "      <td>0.173434</td>\n",
       "      <td>0.355762</td>\n",
       "      <td>0.172564</td>\n",
       "      <td>0.187452</td>\n",
       "      <td>0.110789</td>\n",
       "    </tr>\n",
       "    <tr>\n",
       "      <th>1</th>\n",
       "      <td>0.222826</td>\n",
       "      <td>0.346618</td>\n",
       "      <td>0.182367</td>\n",
       "      <td>0.103865</td>\n",
       "      <td>0.144324</td>\n",
       "    </tr>\n",
       "  </tbody>\n",
       "</table>\n",
       "</div>"
      ],
      "text/plain": [
       "            creation_source_1  creation_source_2  creation_source_3  \\\n",
       "is_adopted                                                            \n",
       "0                    0.173434           0.355762           0.172564   \n",
       "1                    0.222826           0.346618           0.182367   \n",
       "\n",
       "            creation_source_4  creation_source_5  \n",
       "is_adopted                                        \n",
       "0                    0.187452           0.110789  \n",
       "1                    0.103865           0.144324  "
      ]
     },
     "execution_count": 25,
     "metadata": {},
     "output_type": "execute_result"
    }
   ],
   "source": [
    "X_creation = X.groupby('is_adopted').mean().iloc[:,0:5]\n",
    "X_creation"
   ]
  },
  {
   "cell_type": "markdown",
   "metadata": {},
   "source": [
    "<div class=\"span5 alert alert-success\">\n",
    "<p> Above, I have again calculated test statistics, this time for the creation_source column. The values of creation_source that are statistically significant predictors of is_adopted are GUEST_INVITE, PERSONAL_PROJECTS, and SIGNUP_GOOGLE_AUTH. These all have a test statistic greater than 3. From these results, we can say that adopted users are more likely to originate from a GUEST_INVITE or SIGNUP_GOOGLE_AUTH, and less likely to originate from PERSONAL_PROJECTS.\n",
    "   </p>\n",
    "</div>\n"
   ]
  },
  {
   "cell_type": "markdown",
   "metadata": {},
   "source": [
    "### Predictive Modeling"
   ]
  },
  {
   "cell_type": "code",
   "execution_count": 26,
   "metadata": {},
   "outputs": [],
   "source": [
    "# Scale \"org_id\" to be between 0 and 1\n",
    "users['org_id'] = (users['org_id'] - users['org_id'].min())/users['org_id'].max()"
   ]
  },
  {
   "cell_type": "code",
   "execution_count": 27,
   "metadata": {},
   "outputs": [
    {
     "data": {
      "text/plain": [
       "0    10344\n",
       "1     1656\n",
       "Name: is_adopted, dtype: int64"
      ]
     },
     "execution_count": 27,
     "metadata": {},
     "output_type": "execute_result"
    }
   ],
   "source": [
    "y.value_counts()"
   ]
  },
  {
   "cell_type": "code",
   "execution_count": 28,
   "metadata": {},
   "outputs": [],
   "source": [
    "# Split into train and test sets\n",
    "X = X.drop('is_adopted',axis=1)\n",
    "Xtr, Xte, ytr, yte = TTS(X.values,y.values,random_state=5)"
   ]
  },
  {
   "cell_type": "code",
   "execution_count": 31,
   "metadata": {},
   "outputs": [
    {
     "name": "stdout",
     "output_type": "stream",
     "text": [
      "Best ROC AUC score =  0.5912871594145438\n",
      "GradientBoostingClassifier(criterion='friedman_mse', init=None,\n",
      "              learning_rate=0.1, loss='deviance', max_depth=1,\n",
      "              max_features=None, max_leaf_nodes=None,\n",
      "              min_impurity_decrease=0.0, min_impurity_split=None,\n",
      "              min_samples_leaf=1, min_samples_split=10,\n",
      "              min_weight_fraction_leaf=0.0, n_estimators=144,\n",
      "              n_iter_no_change=None, presort='auto', random_state=None,\n",
      "              subsample=1.0, tol=0.0001, validation_fraction=0.1,\n",
      "              verbose=0, warm_start=False)\n",
      "{'max_depth': 1, 'min_samples_split': 10, 'n_estimators': 144}\n",
      "TRAINING SET\n",
      "AUC =  0.5754659382563984\n",
      "[[1655 6111]\n",
      " [ 136 1098]]\n",
      "TEST SET\n",
      "AUC =  0.5625820375837841\n",
      "[[ 524 2054]\n",
      " [  47  375]]\n"
     ]
    },
    {
     "data": {
      "image/png": "[encoded data removed]",
      "text/plain": [
       "<matplotlib.figure.Figure at 0x1c2f1f69e8>"
      ]
     },
     "metadata": {
      "needs_background": "light"
     },
     "output_type": "display_data"
    },
    {
     "data": {
      "image/png": "[encoded data removed]",
      "text/plain": [
       "<matplotlib.figure.Figure at 0x1c2f4b3780>"
      ]
     },
     "metadata": {
      "needs_background": "light"
     },
     "output_type": "display_data"
    }
   ],
   "source": [
    "# Do RandomizedSearchCV to find optimal Gradient Boosted Classifier\n",
    "from sklearn.ensemble import GradientBoostingClassifier as GBC\n",
    "from scipy.stats import randint as sp_randint\n",
    "direc = '/Users/Anthony/Documents/Bootcamp/relax_challenge/models/'\n",
    "my_makedir(direc)\n",
    "gbc = GBC() \n",
    "param_grid = {\"max_depth\": sp_randint(1, 20),\n",
    "              \"min_samples_split\": sp_randint(2, 11),\n",
    "              \"n_estimators\": sp_randint(50,200)}\n",
    "filename = 'mod_gbc.p'\n",
    "exists = os.path.isfile(direc+filename)\n",
    "if exists:\n",
    "    mod_gbc = pickle.load( open( direc+filename, \"rb\" ) )\n",
    "else:\n",
    "    mod_gbc = RSCV(estimator=gbc, param_distributions=param_grid, n_iter=20, cv=3,scoring='roc_auc',verbose=50)\n",
    "    mod_gbc.fit(Xtr,ytr) \n",
    "    pickle.dump( mod_gbc, open( direc+filename, \"wb\" ) ) \n",
    "print('Best ROC AUC score = ',mod_gbc.best_score_)\n",
    "print(mod_gbc.best_estimator_)\n",
    "print(mod_gbc.best_params_)\n",
    "get_metrics(mod_gbc.best_estimator_,Xtr,Xte,ytr,yte,thresh = 0.125)\n",
    "mod = mod_gbc.best_estimator_\n",
    "modprobs = mod.predict_proba(Xtr)\n",
    "plt.hist(modprobs[:,1])\n",
    "plt.title('Gradient Boosted Classifier Probability Distribution')\n",
    "plt.xlabel('Probability')\n",
    "plt.ylabel('Count')\n",
    "plt.show()\n",
    "y_pred = modprobs[:,1]\n",
    "do_auc_prec_recall(ytr,y_pred,show_confusion=0)"
   ]
  },
  {
   "cell_type": "code",
   "execution_count": 30,
   "metadata": {},
   "outputs": [
    {
     "name": "stdout",
     "output_type": "stream",
     "text": [
      "Feature ranking:\n",
      "1. feature 8: org_id (0.516183)\n",
      "2. feature 3: creation_source_4 (0.339203)\n",
      "3. feature 4: creation_source_5 (0.083920)\n",
      "4. feature 0: creation_source_1 (0.060694)\n",
      "5. feature 9: invited_by_user (0.000000)\n",
      "6. feature 7: enabled_for_marketing_drip (0.000000)\n",
      "7. feature 6: opted_in_to_mailing_list (0.000000)\n",
      "8. feature 5: creation_source_-1 (0.000000)\n",
      "9. feature 2: creation_source_3 (0.000000)\n",
      "10. feature 1: creation_source_2 (0.000000)\n"
     ]
    },
    {
     "data": {
      "image/png": "[encoded data removed]",
      "text/plain": [
       "<matplotlib.figure.Figure at 0x1c2dd29668>"
      ]
     },
     "metadata": {
      "needs_background": "light"
     },
     "output_type": "display_data"
    }
   ],
   "source": [
    "# Show which features are the most important\n",
    "importances = mod.feature_importances_\n",
    "indices = np.argsort(importances)[::-1]\n",
    "\n",
    "# Print the feature ranking\n",
    "print(\"Feature ranking:\")\n",
    "for f in range(0,10):  # range(Xtr2.shape[1]):\n",
    "    print(\"%d. feature %d: %s (%f)\" % (f + 1, indices[f],X.columns[indices[f]], importances[indices[f]]))\n",
    "\n",
    "# Plot the feature importances of the forest\n",
    "plt.figure()\n",
    "plt.title(\"Feature importances\")\n",
    "plt.bar(range(X.shape[1]), importances[indices],\n",
    "       color=\"r\", align=\"center\")\n",
    "plt.xticks(range(X.shape[1]), indices)\n",
    "plt.xlim([-1,10])\n",
    "plt.xlabel('Feature ID')\n",
    "plt.ylabel('Feature Importance')\n",
    "plt.show()"
   ]
  },
  {
   "cell_type": "markdown",
   "metadata": {},
   "source": [
    "<div class=\"span5 alert alert-success\">\n",
    "<p> I tested out a few predictive models from scikit-learn. Gradient Boosted Classification showed the best results, with a testing ROC AUC of 0.59. This value is only slightly higher than what you'd see from flipping a coin, so we shouldn't trust this model. The most important features, however, are still org_id and creation_source, which is a good sanity check against the previous statistical tests. \n",
    "\n",
    "   </p>\n",
    "</div>\n"
   ]
  },
  {
   "cell_type": "markdown",
   "metadata": {},
   "source": [
    "## Summary"
   ]
  },
  {
   "cell_type": "markdown",
   "metadata": {},
   "source": [
    "<div class=\"span5 alert alert-success\">\n",
    "<p> Overall, the significance tests were the most insightful, while Gradient Boosted classification did not produce any decent models. Generally, we can say that adopted users tend to have higher org_ids and are more likely to have been invited by a user. And they are more likely to originate from a GUEST_INVITE or SIGNUP_GOOGLE_AUTH, and less likely to originate from PERSONAL_PROJECTS. \n",
    "\n",
    "   </p>\n",
    "</div>\n"
   ]
  },
  {
   "cell_type": "code",
   "execution_count": null,
   "metadata": {},
   "outputs": [],
   "source": []
  }
 ],
 "metadata": {
  "kernelspec": {
   "display_name": "Python 3",
   "language": "python",
   "name": "python3"
  },
  "language_info": {
   "codemirror_mode": {
    "name": "ipython",
    "version": 3
   },
   "file_extension": ".py",
   "mimetype": "text/x-python",
   "name": "python",
   "nbconvert_exporter": "python",
   "pygments_lexer": "ipython3",
   "version": "3.7.1"
  }
 },
 "nbformat": 4,
 "nbformat_minor": 2
}
